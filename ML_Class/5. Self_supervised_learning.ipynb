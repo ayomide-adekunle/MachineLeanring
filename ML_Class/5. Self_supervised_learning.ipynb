{
  "cells": [
    {
      "cell_type": "markdown",
      "id": "e917a377",
      "metadata": {
        "id": "e917a377"
      },
      "source": [
        "# Learning Objective\n",
        "Understand how self-supervised learning can utilize unlabeled data to make deep learning model generalize better.\n",
        "\n",
        "# Task (30 points)\n",
        "Implement a contrastive loss function (marked by #TODO in this notebook).\n",
        "\n",
        "This contrastive loss function can be defined by yourself. You can consider using [SimCLR](https://arxiv.org/abs/2002.05709). You do not need to use [MoCo](https://arxiv.org/abs/1911.05722), as the implementation is slightly more complex. \n",
        "\n",
        "Training a model with a proper contrastive loss function should make sure if two random transformations of the same image should still be similar in their latent space, while transformations of different images should be very different. There are many ways to implement this function. You can test your own ideas first before searching GitHub source code for inspiration. "
      ]
    },
    {
      "cell_type": "code",
      "execution_count": 6,
      "id": "3af67199-13e2-41ac-bae2-3e80a1549940",
      "metadata": {
        "id": "3af67199-13e2-41ac-bae2-3e80a1549940"
      },
      "outputs": [],
      "source": [
        "# Load library\n",
        "import numpy as np\n",
        "import matplotlib.pyplot as plt\n",
        "from PIL import Image\n",
        "\n",
        "import torch\n",
        "import torch.nn as nn\n",
        "import torch.nn.functional as F\n",
        "from torch.utils.data import DataLoader\n",
        "from torchvision import transforms\n",
        "from torchvision.datasets import CIFAR10\n",
        "from torchvision.models import resnet\n",
        "\n",
        "# Recommend to use GPU as it will take quite some time if you only use cpu\n",
        "use_gpu = True\n",
        "if use_gpu and torch.cuda.is_available():\n",
        "  device = torch.device(\"cuda\") "
      ]
    },
    {
      "cell_type": "code",
      "execution_count": 7,
      "id": "2a06556e",
      "metadata": {
        "id": "2a06556e",
        "outputId": "21cbf2e2-8c95-4da6-ea39-a9d739089b27",
        "colab": {
          "base_uri": "https://localhost:8080/"
        }
      },
      "outputs": [
        {
          "output_type": "stream",
          "name": "stdout",
          "text": [
            "Files already downloaded and verified\n"
          ]
        }
      ],
      "source": [
        "# This cell is to prepare data loaders\n",
        "\n",
        "class CIFAR10Pair(CIFAR10):\n",
        "    \"\"\"This class is a subclass of torch.utils.data.Dataset; read its documentation if your have questions\n",
        "    For each image in the CIFAR10 dataset, return two random transformations of itself\n",
        "    \"\"\"\n",
        "    def __getitem__(self, index):\n",
        "        img = self.data[index]\n",
        "        img = Image.fromarray(img)\n",
        "\n",
        "        if self.transform is not None:\n",
        "            # im_1 and im_2 are two versions of img and should be similar to each other in latent space\n",
        "            im_1 = self.transform(img)\n",
        "            im_2 = self.transform(img)\n",
        "\n",
        "        return im_1, im_2\n",
        "\n",
        "batch_size = 512\n",
        "# Random transform a image into two versions; used for contrastive learning\n",
        "train_transform = transforms.Compose([\n",
        "    transforms.RandomResizedCrop(32),\n",
        "    transforms.RandomHorizontalFlip(p=0.5),\n",
        "    transforms.RandomApply([transforms.ColorJitter(0.4, 0.4, 0.4, 0.1)], p=0.8),\n",
        "    transforms.RandomGrayscale(p=0.2),\n",
        "    transforms.ToTensor(),\n",
        "    transforms.Normalize([0.4914, 0.4822, 0.4465], [0.2023, 0.1994, 0.2010])])\n",
        "train_data = CIFAR10Pair(root='data', train=True, transform=train_transform, download=True)\n",
        "train_loader = DataLoader(train_data, batch_size=batch_size, shuffle=True, num_workers=16, pin_memory=True, drop_last=True)\n",
        "\n",
        "# No random transformation; used for conventional supervised learning\n",
        "test_transform = transforms.Compose([\n",
        "    transforms.ToTensor(),\n",
        "    transforms.Normalize([0.4914, 0.4822, 0.4465], [0.2023, 0.1994, 0.2010])])\n",
        "\n",
        "memory_data = CIFAR10(root='data', train=True, transform=test_transform)\n",
        "memory_loader = DataLoader(memory_data, batch_size=batch_size, shuffle=False, num_workers=16, pin_memory=True)\n",
        "\n",
        "test_data = CIFAR10(root='data', train=False, transform=test_transform)\n",
        "test_loader = DataLoader(test_data, batch_size=batch_size, shuffle=False, num_workers=16, pin_memory=True)"
      ]
    },
    {
      "cell_type": "code",
      "execution_count": 8,
      "id": "003f2650",
      "metadata": {
        "id": "003f2650"
      },
      "outputs": [],
      "source": [
        "class FeatureExtractor(nn.Module):\n",
        "  \"\"\"\n",
        "  Use ResNet18 as the feature extractor\n",
        "  Comparing with ImageNet ResNet:\n",
        "  (i) replaces conv1 with kernel=3, stride=1\n",
        "  (ii) removes pool1\n",
        "  \"\"\"\n",
        "  def __init__(self, feature_dim=128):\n",
        "    super().__init__()\n",
        "    net = resnet.resnet18(num_classes=feature_dim)\n",
        "    self.net = []      \n",
        "    for name, module in net.named_children():\n",
        "      if name == 'conv1':\n",
        "          module = nn.Conv2d(3, 64, kernel_size=3, stride=1, padding=1, bias=False)\n",
        "      if isinstance(module, nn.MaxPool2d):\n",
        "          continue\n",
        "      if isinstance(module, nn.Linear):\n",
        "          self.net.append(nn.Flatten(1))\n",
        "      self.net.append(module)\n",
        "    self.net = nn.Sequential(*self.net)\n",
        "\n",
        "  def forward(self, x):\n",
        "    x = self.net(x)\n",
        "    return x"
      ]
    },
    {
      "cell_type": "code",
      "execution_count": 9,
      "id": "80f11bb0",
      "metadata": {
        "id": "80f11bb0"
      },
      "outputs": [],
      "source": [
        "def train_model(feature_extractor, classifier, optimizer, num_epochs=100):\n",
        "  \"\"\"Train the model using only ~1% of labeled training data\n",
        "  Args:\n",
        "    feature_extractor: as defined above\n",
        "    classifier: a simple nn.Linear layer\n",
        "    optimizer: see code below for details\n",
        "  \"\"\"\n",
        "  train_loss_history = []\n",
        "  train_acc_history = []\n",
        "  test_loss_history = []\n",
        "  test_acc_history = []\n",
        "  print_every = max(1, num_epochs // 20)\n",
        "  for epoch in range(num_epochs):\n",
        "    total_loss = 0\n",
        "    total_acc = 0\n",
        "    cnt = 0\n",
        "    for i, (x_batch, y_batch) in enumerate(memory_loader):\n",
        "      if i == 1: # Using roughly 1% of labeled training data because len(memory_loader) == 98\n",
        "        break    # This training process only use the first batch, that is 1/98 entire training dataset.\n",
        "      x_batch = x_batch.to(device)\n",
        "      y_batch = y_batch.to(device)\n",
        "      y_pred = classifier(feature_extractor(x_batch))\n",
        "      loss = F.cross_entropy(y_pred, y_batch)\n",
        "      optimizer.zero_grad()\n",
        "      loss.backward()\n",
        "      optimizer.step()\n",
        "      total_loss += loss.item() * len(x_batch)\n",
        "      total_acc += (y_pred.argmax(1) == y_batch).float().sum().item()\n",
        "      cnt += len(x_batch)\n",
        "    train_loss_history.append(total_loss / cnt)\n",
        "    train_acc_history.append(total_acc / cnt)\n",
        "    with torch.no_grad():\n",
        "      total_loss = 0\n",
        "      total_acc = 0\n",
        "      for x_batch, y_batch in test_loader:\n",
        "        x_batch = x_batch.to(device)\n",
        "        y_batch = y_batch.to(device)\n",
        "        y_pred = classifier(feature_extractor(x_batch))\n",
        "        loss = F.cross_entropy(y_pred, y_batch)\n",
        "        total_loss += loss.item() * len(x_batch)\n",
        "        total_acc += (y_pred.argmax(1) == y_batch).float().sum().item()\n",
        "      test_loss_history.append(total_loss / len(test_loader.dataset))\n",
        "      test_acc_history.append(total_acc / len(test_loader.dataset))\n",
        "    if epoch % print_every == 0:\n",
        "      print(f'Epoch {epoch}: train_loss={train_loss_history[-1]:.2f}, train_acc={train_acc_history[-1]:.2f}, '\n",
        "      f'test_loss={test_loss_history[-1]:.2f}, test_acc={test_acc_history[-1]:.2f}')\n",
        "  plt.plot(train_loss_history, 'ro--', label='train_loss')\n",
        "  plt.plot(test_loss_history, 'go--', label='test_loss')\n",
        "  plt.legend()\n",
        "  plt.show()\n",
        "\n",
        "  plt.plot(train_acc_history, 'ro--', label='train_acc')\n",
        "  plt.plot(test_acc_history, 'go--', label='test_acc')\n",
        "  plt.legend()\n",
        "  plt.show()"
      ]
    },
    {
      "cell_type": "code",
      "execution_count": 5,
      "id": "1a294571",
      "metadata": {
        "id": "1a294571",
        "outputId": "c575fe19-7215-4389-db71-6e10406d3102",
        "colab": {
          "base_uri": "https://localhost:8080/",
          "height": 874
        }
      },
      "outputs": [
        {
          "output_type": "stream",
          "name": "stdout",
          "text": [
            "Epoch 0: train_loss=2.36, train_acc=0.10, test_loss=6.73, test_acc=0.10\n",
            "Epoch 5: train_loss=4.10, train_acc=0.13, test_loss=3.93, test_acc=0.11\n",
            "Epoch 10: train_loss=2.84, train_acc=0.16, test_loss=3.12, test_acc=0.12\n",
            "Epoch 15: train_loss=2.40, train_acc=0.20, test_loss=2.74, test_acc=0.14\n",
            "Epoch 20: train_loss=2.30, train_acc=0.20, test_loss=2.69, test_acc=0.19\n",
            "Epoch 25: train_loss=2.11, train_acc=0.24, test_loss=2.35, test_acc=0.20\n",
            "Epoch 30: train_loss=1.89, train_acc=0.28, test_loss=2.21, test_acc=0.22\n",
            "Epoch 35: train_loss=1.70, train_acc=0.35, test_loss=2.23, test_acc=0.25\n",
            "Epoch 40: train_loss=1.65, train_acc=0.35, test_loss=2.14, test_acc=0.25\n",
            "Epoch 45: train_loss=1.51, train_acc=0.44, test_loss=2.13, test_acc=0.28\n",
            "Epoch 50: train_loss=1.40, train_acc=0.42, test_loss=2.39, test_acc=0.28\n",
            "Epoch 55: train_loss=1.23, train_acc=0.51, test_loss=2.37, test_acc=0.30\n",
            "Epoch 60: train_loss=1.15, train_acc=0.56, test_loss=2.49, test_acc=0.30\n",
            "Epoch 65: train_loss=0.84, train_acc=0.69, test_loss=2.91, test_acc=0.30\n",
            "Epoch 70: train_loss=1.05, train_acc=0.57, test_loss=2.76, test_acc=0.30\n",
            "Epoch 75: train_loss=0.76, train_acc=0.71, test_loss=2.64, test_acc=0.33\n",
            "Epoch 80: train_loss=0.43, train_acc=0.84, test_loss=3.27, test_acc=0.34\n",
            "Epoch 85: train_loss=0.19, train_acc=0.95, test_loss=4.17, test_acc=0.32\n",
            "Epoch 90: train_loss=0.76, train_acc=0.79, test_loss=4.44, test_acc=0.29\n",
            "Epoch 95: train_loss=0.54, train_acc=0.83, test_loss=3.34, test_acc=0.33\n"
          ]
        },
        {
          "output_type": "display_data",
          "data": {
            "text/plain": [
              "<Figure size 432x288 with 1 Axes>"
            ],
            "image/png": "[encoded data removed]"
          },
          "metadata": {
            "needs_background": "light"
          }
        },
        {
          "output_type": "display_data",
          "data": {
            "text/plain": [
              "<Figure size 432x288 with 1 Axes>"
            ],
            "image/png": "[encoded data removed]"
          },
          "metadata": {
            "needs_background": "light"
          }
        }
      ],
      "source": [
        "# Without self-supeversied learning, model does not generalize well. The test accuray is less than 30%\n",
        "feature_dim = 256\n",
        "num_classes = 10\n",
        "feature_extractor = FeatureExtractor(feature_dim).to(device)\n",
        "classifier = nn.Linear(feature_dim, num_classes).to(device)\n",
        "optimizer = torch.optim.Adam(list(classifier.parameters()) + list(feature_extractor.parameters()), \n",
        "                            lr=5e-3, weight_decay=1e-4)\n",
        "train_model(feature_extractor, classifier, optimizer)"
      ]
    },
    {
      "cell_type": "code",
      "execution_count": 15,
      "id": "d93a4b6c",
      "metadata": {
        "id": "d93a4b6c"
      },
      "outputs": [],
      "source": [
        "##TODO\n",
        "# This is what you need to implement\n",
        "def contrast_loss(feature_extractor, x0, x1):\n",
        "  \"\"\"Given a feature extractor that transforms a batch of images to their latent representations, \n",
        "  Compute the contrastive loss\n",
        "\n",
        "  Refer to the next cell: x0 and x1 are a batch of transformed images from train_loader\n",
        "  Suppose batch_size = 512, then both x0 and x1 have shape (512, 3, 32, 32);\n",
        "  feature_extractor(x0) and feature_extractor(x1) with both return a matrix of shape (batch_size, feature_dim)\n",
        "  \n",
        "  x0[i], x1[i] (i=0,1,2,3...,511) are two random transformations of the i th image; \n",
        "  therefore they should be similar in the latent space (i.e., the output of feature_extractor)\n",
        "\n",
        "  In contrast, x0[i], x1[j] (i != j) should be different\n",
        "  \n",
        "  \"\"\"\n",
        "  y0 = feature_extractor(x0)\n",
        "  y1 = feature_extractor(x1)\n",
        "  #########################################TODO##########################################################\n",
        "  ## Write your code here; it doesn't need to be too complex; the sample solution only has two lines, but that's just one of many solutions\n",
        "  ## As long as you can significantly increase test accuracy using self-supervised learning, it means your implmentation of this loss function is working\n",
        "  #torch.cuda.empty_cache()\n",
        "\n",
        "  batch_size = y0.shape[0]\n",
        "  z_i = F.normalize(y0, p=2, dim=1)\n",
        "  z_j = F.normalize(y1, p=2, dim=1)\n",
        "\n",
        "  representations = torch.cat([z_i, z_j], dim=0)\n",
        "  similarity_matrix =  F.cosine_similarity(representations.unsqueeze(1), representations.unsqueeze(0), dim=2)\n",
        "\n",
        "\n",
        "  sim_ij = torch.diag(similarity_matrix, batch_size)\n",
        "  sim_ji = torch.diag(similarity_matrix, -batch_size)\n",
        "\n",
        "  positives = torch.cat([sim_ij, sim_ji], dim=0)\n",
        "\n",
        "  nominator = torch.exp(positives / 0.5) #temperature is 0.5\n",
        "\n",
        "  mask = (~torch.eye(batch_size * 2, batch_size * 2, dtype=bool)).float()\n",
        "\n",
        "  #mask.to(device)\n",
        "\n",
        "  denominator = mask.to(similarity_matrix.device) * torch.exp(similarity_matrix / 0.5)\n",
        "\n",
        "  all_losses = -torch.log(nominator / torch.sum(denominator, dim=1))\n",
        "  loss = torch.sum(all_losses) / (2 * batch_size)\n",
        " \n",
        "\n",
        "\n",
        "  #######################################################################################################\n",
        "  return loss"
      ]
    },
    {
      "cell_type": "code",
      "execution_count": 16,
      "id": "602f1105",
      "metadata": {
        "id": "602f1105",
        "outputId": "b0dc5c02-8826-4d45-a219-8926ff4c4ebf",
        "colab": {
          "base_uri": "https://localhost:8080/",
          "height": 622
        }
      },
      "outputs": [
        {
          "output_type": "stream",
          "name": "stdout",
          "text": [
            "Epoch 0: train_loss=6.19\n",
            "Epoch 1: train_loss=5.89\n",
            "Epoch 2: train_loss=5.79\n",
            "Epoch 3: train_loss=5.72\n",
            "Epoch 4: train_loss=5.68\n",
            "Epoch 5: train_loss=5.64\n",
            "Epoch 6: train_loss=5.61\n",
            "Epoch 7: train_loss=5.59\n",
            "Epoch 8: train_loss=5.57\n",
            "Epoch 9: train_loss=5.57\n",
            "Epoch 10: train_loss=5.55\n",
            "Epoch 11: train_loss=5.54\n",
            "Epoch 12: train_loss=5.53\n",
            "Epoch 13: train_loss=5.52\n",
            "Epoch 14: train_loss=5.52\n",
            "Epoch 15: train_loss=5.51\n",
            "Epoch 16: train_loss=5.50\n",
            "Epoch 17: train_loss=5.50\n",
            "Epoch 18: train_loss=5.49\n",
            "Epoch 19: train_loss=5.48\n"
          ]
        },
        {
          "output_type": "display_data",
          "data": {
            "text/plain": [
              "<Figure size 432x288 with 1 Axes>"
            ],
            "image/png": "[encoded data removed]"
          },
          "metadata": {
            "needs_background": "light"
          }
        }
      ],
      "source": [
        "# With contrastive loss defined above, you train perferm self-supervised learning without using the actual labels in the training set\n",
        "torch.cuda.empty_cache()\n",
        "feature_dim = 256\n",
        "feature_extractor = FeatureExtractor(feature_dim).to(device)\n",
        "optimizer = torch.optim.Adam(feature_extractor.parameters(), lr=1e-3)\n",
        "train_loss_history = []\n",
        "num_epochs = 20\n",
        "print_every = max(1, num_epochs // 20)\n",
        "for epoch in range(num_epochs):\n",
        "  total_loss = 0\n",
        "  for x0, x1 in train_loader:\n",
        "    x0 = x0.to(device)\n",
        "    x1 = x1.to(device)\n",
        "    loss = contrast_loss(feature_extractor, x0, x1)\n",
        "    optimizer.zero_grad()\n",
        "    loss.backward()\n",
        "    optimizer.step()\n",
        "    total_loss += loss.item() * len(x0)\n",
        "  train_loss_history.append(total_loss / len(train_loader.dataset))\n",
        "  if epoch % print_every == 0:\n",
        "    print(f'Epoch {epoch}: train_loss={train_loss_history[-1]:.2f}')\n",
        "plt.plot(train_loss_history, 'ro--', label='train_loss')\n",
        "plt.legend()\n",
        "plt.show()"
      ]
    },
    {
      "cell_type": "code",
      "execution_count": 18,
      "metadata": {
        "id": "ZK9JsG1kF1VV",
        "outputId": "b0defd0d-6f31-486e-d816-09abab0ce3c5",
        "colab": {
          "base_uri": "https://localhost:8080/",
          "height": 870
        }
      },
      "outputs": [
        {
          "output_type": "stream",
          "name": "stdout",
          "text": [
            "Epoch 0: train_loss=3.63, train_acc=0.06, test_loss=2.10, test_acc=0.29\n",
            "Epoch 5: train_loss=1.01, train_acc=0.65, test_loss=1.35, test_acc=0.57\n",
            "Epoch 10: train_loss=0.97, train_acc=0.67, test_loss=1.50, test_acc=0.58\n",
            "Epoch 15: train_loss=0.92, train_acc=0.69, test_loss=1.52, test_acc=0.58\n",
            "Epoch 20: train_loss=0.87, train_acc=0.72, test_loss=1.55, test_acc=0.57\n",
            "Epoch 25: train_loss=0.84, train_acc=0.71, test_loss=1.51, test_acc=0.58\n",
            "Epoch 30: train_loss=0.81, train_acc=0.71, test_loss=1.48, test_acc=0.58\n",
            "Epoch 35: train_loss=0.79, train_acc=0.71, test_loss=1.47, test_acc=0.58\n",
            "Epoch 40: train_loss=0.77, train_acc=0.72, test_loss=1.45, test_acc=0.58\n",
            "Epoch 45: train_loss=0.76, train_acc=0.73, test_loss=1.44, test_acc=0.57\n",
            "Epoch 50: train_loss=0.75, train_acc=0.73, test_loss=1.41, test_acc=0.58\n",
            "Epoch 55: train_loss=0.75, train_acc=0.72, test_loss=1.38, test_acc=0.58\n",
            "Epoch 60: train_loss=0.74, train_acc=0.72, test_loss=1.37, test_acc=0.58\n",
            "Epoch 65: train_loss=0.73, train_acc=0.73, test_loss=1.36, test_acc=0.58\n",
            "Epoch 70: train_loss=0.73, train_acc=0.74, test_loss=1.36, test_acc=0.58\n",
            "Epoch 75: train_loss=0.72, train_acc=0.73, test_loss=1.35, test_acc=0.58\n",
            "Epoch 80: train_loss=0.72, train_acc=0.73, test_loss=1.35, test_acc=0.58\n",
            "Epoch 85: train_loss=0.72, train_acc=0.74, test_loss=1.34, test_acc=0.58\n",
            "Epoch 90: train_loss=0.71, train_acc=0.73, test_loss=1.34, test_acc=0.58\n",
            "Epoch 95: train_loss=0.71, train_acc=0.74, test_loss=1.34, test_acc=0.58\n"
          ]
        },
        {
          "output_type": "display_data",
          "data": {
            "text/plain": [
              "<Figure size 432x288 with 1 Axes>"
            ],
            "image/png": "[encoded data removed]"
          },
          "metadata": {
            "needs_background": "light"
          }
        },
        {
          "output_type": "display_data",
          "data": {
            "text/plain": [
              "<Figure size 432x288 with 1 Axes>"
            ],
            "image/png": "[encoded data removed]"
          },
          "metadata": {
            "needs_background": "light"
          }
        }
      ],
      "source": [
        "# Freeze the parameters of the feature extractor after self-supervised learning\n",
        "# Only train the last linear layer\n",
        "# You should find out the model generalize much better than that without self-supervised learning\n",
        "# Note here model generalization refers to the test accuracy; \n",
        "# You can compare the test accuracy here and the previous one without self-supervised learning\n",
        "num_classes = 10\n",
        "feature_extractor.requires_grad_(False)\n",
        "classifier = nn.Linear(feature_dim, num_classes).to(device)\n",
        "optimizer = torch.optim.Adam(classifier.parameters(), lr=5e-3, weight_decay=1e-4)\n",
        "train_model(feature_extractor, classifier, optimizer)"
      ],
      "id": "ZK9JsG1kF1VV"
    }
  ],
  "metadata": {
    "kernelspec": {
      "display_name": "Python 3.9.12 ('base')",
      "language": "python",
      "name": "python3"
    },
    "language_info": {
      "codemirror_mode": {
        "name": "ipython",
        "version": 3
      },
      "file_extension": ".py",
      "mimetype": "text/x-python",
      "name": "python",
      "nbconvert_exporter": "python",
      "pygments_lexer": "ipython3",
      "version": "3.9.12"
    },
    "vscode": {
      "interpreter": {
        "hash": "ef8b24499801dcb916d244f6b6a54385dc29d62ea1c35c7524219c4f780fe141"
      }
    },
    "colab": {
      "provenance": [],
      "collapsed_sections": []
    },
    "accelerator": "GPU"
  },
  "nbformat": 4,
  "nbformat_minor": 5
}