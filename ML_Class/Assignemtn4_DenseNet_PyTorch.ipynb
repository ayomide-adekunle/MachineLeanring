{
  "nbformat": 4,
  "nbformat_minor": 0,
  "metadata": {
    "colab": {
      "provenance": [],
      "collapsed_sections": []
    },
    "kernelspec": {
      "display_name": "Python 3",
      "language": "python",
      "name": "python3"
    },
    "language_info": {
      "codemirror_mode": {
        "name": "ipython",
        "version": 3
      },
      "file_extension": ".py",
      "mimetype": "text/x-python",
      "name": "python",
      "nbconvert_exporter": "python",
      "pygments_lexer": "ipython3",
      "version": "3.8.3"
    },
    "accelerator": "GPU"
  },
  "cells": [
    {
      "cell_type": "code",
      "metadata": {
        "id": "evoJuaWZdLKf"
      },
      "source": [
        "from collections import OrderedDict\n",
        "\n",
        "import matplotlib.pyplot as plt\n",
        "\n",
        "import torch\n",
        "import torch.nn as nn\n",
        "import torch.nn.functional as F\n",
        "import torchvision\n",
        "import torchvision.transforms as transforms\n",
        "from torch.utils.tensorboard import SummaryWriter"
      ],
      "execution_count": 1,
      "outputs": []
    },
    {
      "cell_type": "markdown",
      "metadata": {
        "id": "-Jnte6x_dLKi"
      },
      "source": [
        "## CompositeLayer is an nn.Module with the following layers (in order):\n",
        "\n",
        "### 1. BatchNorm2d with default parameters\n",
        "### 2. ReLU\n",
        "### 3. Conv2d with kernel_size=1, stride=1, bias=False, all others default values\n",
        "### 4. BatchNorm2d with default parameters\n",
        "### 5. ReLU\n",
        "### 6. Conv2d with kernel_size=3, stride=1, padding=1, bias=False, all others default values\n",
        "\n",
        "#### These layers are connected in a sequential order (i.e., 1-2-3-4-5-6)\n",
        "\n",
        "## Fill the blanks marked by \"##ToAdd:\" in the following cell (30 points)"
      ]
    },
    {
      "cell_type": "code",
      "metadata": {
        "id": "tzzZdc0xdLKj"
      },
      "source": [
        "class CompositeLayer(nn.Module):\n",
        "    def __init__(self, num_input_features, num_hidden_features, num_output_features):\n",
        "        \"\"\"\n",
        "        Arguments:\n",
        "            num_input_features: int, num_features for the first BatchNorm2d\n",
        "            num_hidden_features: int, out_channels for the first Conv2d\n",
        "            num_output_features: int, out_channels for the second Conv2d\n",
        "        \"\"\"\n",
        "        super(CompositeLayer, self).__init__()\n",
        "        ##ToAdd: layer BatchNorm2d with default parameters (5 points)\n",
        "        self.batch_norm1 = nn.BatchNorm2d(num_input_features)\n",
        "        \n",
        "        ##EndAdd\n",
        "        self.relu1 = nn.ReLU(inplace=True) \n",
        "        ##ToAdd: layer Conv2d with kernel_size=1, stride=1, bias=False, all others default values (5 points)\n",
        "        self.conv1 = nn.Conv2d(num_input_features, num_hidden_features, \n",
        "                               kernel_size=1, stride=1, bias=False)\n",
        "        \n",
        "        ##EndAdd\n",
        "        ##ToAdd: layer BatchNorm2d with default parameters (5 points)\n",
        "        self.batch_norm2 = nn.BatchNorm2d(num_hidden_features)\n",
        "        \n",
        "        ##EndAdd\n",
        "        self.relu2 = nn.ReLU(inplace=True)\n",
        "        ##ToAdd: layer Conv2d with kernel_size=3, stride=1, padding=1, bias=False, all others default values (5 points)\n",
        "        self.conv2 = nn.Conv2d(num_hidden_features, num_output_features, kernel_size=3, stride=1, padding=1,bias=False)\n",
        "        ##EndAdd\n",
        "\n",
        "    def forward(self, inputs):\n",
        "        \"\"\"\n",
        "        Args:\n",
        "            inputs: a torch.Tensor or a list of torch.Tensor\n",
        "        \"\"\"\n",
        "        if isinstance(inputs, list):\n",
        "            inputs = torch.cat(inputs, 1)\n",
        "        ##ToAdd: forward pass from inputs to outputs (10 points)\n",
        "        x1 = self.batch_norm1(inputs)\n",
        "        r1 = self.relu1(x1)\n",
        "        x2 = self.conv1(r1)\n",
        "        x3 = self.batch_norm2(x2)\n",
        "        r2 = self.relu2(x3)\n",
        "        outputs = self.conv2(r2)\n",
        "        \n",
        "#         outputs = self.conv3(self.relu2(self.norm2(self.conv1(self.relu1(self.norm1(inputs))))))\n",
        "\n",
        "\n",
        "\n",
        "\n",
        "        ##EndAdd\n",
        "        return outputs"
      ],
      "execution_count": 27,
      "outputs": []
    },
    {
      "cell_type": "markdown",
      "metadata": {
        "id": "TIdWjSaadLKk"
      },
      "source": [
        "## Block consists of a number (argument `num_layers`) of CompositeLayer defined above:\n",
        "### To illustrate how it works, let's set `num_layers=4` for a Block model. \n",
        "### Then it will have 3 CompositeLayer. Let's name them as `layer1`, `layer2`, `layer3`, and `layer4`.\n",
        "### The input of `layer1` is provided as `init_features` in the `forward` function defined below.\n",
        "### The output of `layer1` will be the input of `layer2`\n",
        "## The output of `layer1` and the output of `layer2` concatenated together at the channel dimension (dim=1) will be the input of `layer3`.\n",
        "## The outputs of `layer1`, `layer2`, and `layer3` concatenated together at the channel dimension (dim=1) will be the input of `layer4`.\n",
        "## So the input of `layer{i}` is the concatenated output of all its previous layers from `layer1` until `layer{i-1}`.\n",
        "## The model `forward` function returns the `init_features` and ALL OUTPUTS of all layers concatenated together at the channel dimension (dim=1)\n",
        "\n",
        "\n",
        "## Fill the blanks marked by \"##ToAdd:\" in the following cell (20 points)"
      ]
    },
    {
      "cell_type": "code",
      "metadata": {
        "id": "iGO3GwZtdLKl"
      },
      "source": [
        "class Block(nn.ModuleDict):\n",
        "    def __init__(self, num_layers, num_input_features, num_hidden_features, num_output_features):\n",
        "        \"\"\"\n",
        "        Arguments:\n",
        "            num_layers: int, how many CompositeLayer are included\n",
        "            num_input_features: int, num_input_features for the FIRST CompositeLayer \n",
        "            (YOU NEED TO CALCULATE the num_input_features for all other CompositeLayer)\n",
        "            num_hidden_features: int, num_hidden_features for every CompositeLayer\n",
        "            num_output_features: int, num_output_features for every CompositeLayer\n",
        "        \"\"\"\n",
        "        super(Block, self).__init__()\n",
        "        for i in range(num_layers):\n",
        "            ##ToAdd: Add a number of CompositeLayer. Hint: define a CompositeLayer with proper arguments, \n",
        "            ## and use add_module function to add it to self (10 points)\n",
        "            comp_layer = CompositeLayer(num_input_features+(i*num_output_features), num_hidden_features, num_output_features)\n",
        "            self.add_module('comp_layer%d' % (i+1), comp_layer)\n",
        "\n",
        "            ##EndAdd\n",
        "\n",
        "    def forward(self, init_features):\n",
        "        \"\"\"\n",
        "        Arguments:\n",
        "            init_features: torch.Tensor, the input of the first CompositeLayer\n",
        "        \"\"\"\n",
        "        features = [init_features]\n",
        "        ##ToAdd: forward pass. Hint: Append the output of each layer to features one at a time \n",
        "        ##until the last layer (10 points)\n",
        "        for name, layer in self.items():\n",
        "            new_features = layer(features)\n",
        "            features.append(new_features)\n",
        "        \n",
        "\n",
        "\n",
        "\n",
        "\n",
        "        ##EndAdd\n",
        "        return torch.cat(features, 1)"
      ],
      "execution_count": 35,
      "outputs": []
    },
    {
      "cell_type": "markdown",
      "metadata": {
        "id": "hVDBh5dsdLKl"
      },
      "source": [
        "## ConvPool is nn.Sequential with the following layers (in order):\n",
        "\n",
        "### 1. BatchNorm2d with default parameters\n",
        "### 2. ReLU\n",
        "### 3. Conv2d with kernel_size=1, stride=1, bias=False, all others default values\n",
        "### 4. AvgPool2d with kernel_size=2, stride=2, all others default values\n",
        "\n",
        "#### For a subclass of nn.Sequential, you only need to define `__init__` (the `forward` function is already defined in nn.Sequential)\n",
        "\n",
        "## Fill the blanks marked by \"##ToAdd:\" in the following cell (10 points)"
      ]
    },
    {
      "cell_type": "code",
      "metadata": {
        "id": "CZUJb7PFdLKm"
      },
      "source": [
        "class ConvPool(nn.Sequential):\n",
        "    def __init__(self, num_input_features, num_output_features):\n",
        "        \"\"\"\n",
        "        Arguments:\n",
        "            num_input_features: int, num_features for the BatchNorm2d layer\n",
        "            num_output_features: int, out_channels for the Conv2d layer\n",
        "        \"\"\"\n",
        "        super(ConvPool, self).__init__()\n",
        "        ##ToAdd: add the layers specified above; hint: use add_module function, e.g., self.add_module('norm', nn.BatchNorm2d(num_input_features)) (10 points)\n",
        "        self.add_module('norm', nn.BatchNorm2d(num_input_features))\n",
        "        self.add_module('relu',nn.ReLU(inplace=True))\n",
        "        self.add_module('conv2d1',nn.Conv2d(num_input_features,num_output_features, \n",
        "                                            kernel_size=1, stride=1, bias=False))\n",
        "        self.add_module('AvgPool2d1',nn.AvgPool2d(kernel_size=2, stride=2))\n",
        "        \n",
        "\n",
        "\n",
        "\n",
        "        ##EndAdd"
      ],
      "execution_count": 36,
      "outputs": []
    },
    {
      "cell_type": "markdown",
      "metadata": {
        "id": "5kVduQWXdLKm"
      },
      "source": [
        "## DenseNet is more complex. It consists multiple Block layers (Note each Block layer consists of multiple CompositeLayer), specified by `block_config`. \n",
        "## The model architecture is as follows:\n",
        "### First convolutional layer (already defined for you) to process the input\n",
        "### A number of Block layers and ConvPool layers you need to add\n",
        "### Final layers such as AvgPool2d and Linear to predict the class labels (already defined for you)\n",
        "\n",
        "\n",
        "## Fill the blanks marked by \"##ToAdd:\" in the following cell (20 points)"
      ]
    },
    {
      "cell_type": "code",
      "metadata": {
        "id": "ibQBkrmfdLKn"
      },
      "source": [
        "class DenseNet(nn.Module):\n",
        "    def __init__(self, block_config=(6, 12, 24, 16), num_init_features=64,\n",
        "                 num_hidden_features=128, num_output_features=32, num_classes=10):\n",
        "        \"\"\"\n",
        "        Arguments:\n",
        "            block_config: list of ints, how many layers in Block layer\n",
        "            num_init_features: int, num_input_features for the FIRST Block layer. (You need to calculate the num_input_features for all other Block layers)\n",
        "            num_hidden_features: int, num_hidden_features for ALL Block layers\n",
        "            num_output_features: int, num_output_features for ALL Block layers\n",
        "            num_classes: int, number of classes, out_features for the last Linear layer (already defined for you)\n",
        "        \"\"\"\n",
        "        super(DenseNet, self).__init__()\n",
        "\n",
        "        # First convolution already defined for you\n",
        "        self.features = nn.Sequential(OrderedDict([\n",
        "            ('conv0', nn.Conv2d(3, num_init_features, kernel_size=7, stride=2, padding=3, bias=False)),\n",
        "            ('norm0', nn.BatchNorm2d(num_init_features)),\n",
        "            ('relu0', nn.ReLU(inplace=True)),\n",
        "            ('pool0', nn.MaxPool2d(kernel_size=3, stride=2, padding=1))]))\n",
        "\n",
        "        # A number of Block and ConvPool layers\n",
        "        num_features = num_init_features #num_features is used as the num_input_features for each Block layer\n",
        "        for i, num_layers in enumerate(block_config):\n",
        "            ##ToAdd: Define a Block layer with num_input_features=num_features (10 points)\n",
        "            block = Block(num_layers,\n",
        "                          num_input_features=num_features,\n",
        "                          num_hidden_features=num_hidden_features,\n",
        "                          num_output_features = num_output_features )\n",
        "            \n",
        "\n",
        "            ##EndAdd\n",
        "            \n",
        "    \n",
        "            ##ToAdd: calculate num_features as the output of the Block layer (5 points)\n",
        "            self.features.add_module('comp_layer%d' % (i+1), block)\n",
        "            num_features = num_features + num_layers * num_output_features \n",
        "            ## EndAdd\n",
        "            if i != len(block_config) - 1:\n",
        "                # All Block layers Except the last one is followed by a ConvPool layer\n",
        "                # Important: ConvPool layer will reduce the number of features by half\n",
        "                ##ToAdd: add a ConvPool layer with num_input_features=num_features, num_output_features=num_features//2 (5 points)\n",
        "                convpool = ConvPool(num_input_features=num_features, num_output_features=num_features//2)\n",
        "                ##EndAdd\n",
        "                self.features.add_module(f'convpool{i+1}', convpool)\n",
        "                # Here we update the num_features, which will be used for the next Block layer in this for loop\n",
        "                num_features = num_features // 2\n",
        "\n",
        "        # Final batch norm\n",
        "        self.features.add_module(f'norm{len(block_config)+1}', nn.BatchNorm2d(num_features))\n",
        "\n",
        "        # Linear layer\n",
        "        self.classifier = nn.Linear(num_features, num_classes)\n",
        "\n",
        "        for m in self.modules():\n",
        "            if isinstance(m, nn.Conv2d):\n",
        "                nn.init.kaiming_normal_(m.weight)\n",
        "            elif isinstance(m, nn.BatchNorm2d):\n",
        "                nn.init.constant_(m.weight, 1)\n",
        "                nn.init.constant_(m.bias, 0)\n",
        "            elif isinstance(m, nn.Linear):\n",
        "                nn.init.constant_(m.bias, 0)\n",
        "\n",
        "    def forward(self, x):\n",
        "        features = self.features(x)\n",
        "        out = F.relu(features, inplace=True)\n",
        "        out = F.adaptive_avg_pool2d(out, (1, 1))\n",
        "        out = torch.flatten(out, 1)\n",
        "        out = self.classifier(out)\n",
        "        return out"
      ],
      "execution_count": 40,
      "outputs": []
    },
    {
      "cell_type": "markdown",
      "metadata": {
        "id": "BO5o0ZYVdLKn"
      },
      "source": [
        "## Well done!\n",
        "## You don't need to change the following cells. They are here for you to learn how to train a computer vision model in practice\n",
        "## You can also test your implemented DenseNet model using it\n",
        "## If you can build a good DenseNet model (change `block_config`, `num_init_features`, `num_hidden_features`, `num_output_features`) and train it well (change optimizer, learning rate, num_epochs, etc.), you will get some extra credit in case you haven't gotten a perfect score. You are highly recommended to do so!"
      ]
    },
    {
      "cell_type": "code",
      "metadata": {
        "colab": {
          "base_uri": "https://localhost:8080/"
        },
        "id": "kReD-hPOdLKo",
        "outputId": "5dc2821e-ebe6-4d0d-f678-be3abac8fe23"
      },
      "source": [
        "transform = transforms.Compose(\n",
        "    [transforms.ToTensor(),\n",
        "     transforms.Normalize((0.5, 0.5, 0.5), (0.5, 0.5, 0.5))])\n",
        "trainset = torchvision.datasets.CIFAR10(root='./data', train=True,\n",
        "                                        download=True, transform=transform)\n",
        "trainset, validationset = torch.utils.data.random_split(trainset, [40000, 10000])\n",
        "testset = torchvision.datasets.CIFAR10(root='./data', train=False,\n",
        "                                       download=True, transform=transform)"
      ],
      "execution_count": 19,
      "outputs": [
        {
          "output_type": "stream",
          "name": "stdout",
          "text": [
            "Files already downloaded and verified\n",
            "Files already downloaded and verified\n"
          ]
        }
      ]
    },
    {
      "cell_type": "code",
      "metadata": {
        "colab": {
          "base_uri": "https://localhost:8080/"
        },
        "id": "WKEylL7WdLKp",
        "outputId": "676d18bf-ea80-4303-8d3c-274124eda3e8"
      },
      "source": [
        "trainloader = torch.utils.data.DataLoader(trainset, batch_size=256,\n",
        "                                          shuffle=True, pin_memory=True, num_workers=4)\n",
        "validationloader = torch.utils.data.DataLoader(validationset, batch_size=1024,\n",
        "                                          shuffle=False, pin_memory=True, num_workers=4)\n",
        "testloader = torch.utils.data.DataLoader(testset, batch_size=1024,\n",
        "                                         shuffle=False, pin_memory=True, num_workers=4)\n",
        "classes = ('plane', 'car', 'bird', 'cat',\n",
        "           'deer', 'dog', 'frog', 'horse', 'ship', 'truck')"
      ],
      "execution_count": 20,
      "outputs": [
        {
          "output_type": "stream",
          "name": "stderr",
          "text": [
            "/usr/local/lib/python3.7/dist-packages/torch/utils/data/dataloader.py:566: UserWarning: This DataLoader will create 4 worker processes in total. Our suggested max number of worker in current system is 2, which is smaller than what this DataLoader is going to create. Please be aware that excessive worker creation might get DataLoader running slow or even freeze, lower the worker number to avoid potential slowness/freeze if necessary.\n",
            "  cpuset_checked))\n"
          ]
        }
      ]
    },
    {
      "cell_type": "code",
      "metadata": {
        "id": "A5QGeEwqdLKp"
      },
      "source": [
        "writer = SummaryWriter('runs/cifar10')\n",
        "#model = DenseNet((6, 12, 24, 16), num_init_features=128, num_hidden_features=256, num_output_features=256, num_classes=10)\n",
        "#model = DenseNet((4,8), num_init_features=64, num_hidden_features=128, num_output_features=32, num_classes=10)\n",
        "model = DenseNet((4,8), num_init_features=128, num_hidden_features=256, num_output_features=256, num_classes=10)\n",
        "writer.add_graph(model, torch.randn(1, 3, 32, 32))\n",
        "writer.close()"
      ],
      "execution_count": 69,
      "outputs": []
    },
    {
      "cell_type": "code",
      "metadata": {
        "id": "TaFCyHsOdLKp",
        "colab": {
          "base_uri": "https://localhost:8080/"
        },
        "outputId": "e5c4d0c0-70a4-40c0-a71d-ca59a15eda58"
      },
      "source": [
        "device = torch.device('cuda') if torch.cuda.is_available() else torch.device('cpu')\n",
        "print(device)\n",
        "if torch.cuda.device_count() > 1:\n",
        "    model = torch.nn.DataParallel(model).to(device)\n",
        "else:\n",
        "    model = model.to(device)\n",
        "\n",
        "loss_fn = nn.CrossEntropyLoss()\n",
        "# optimizer = torch.optim.Adam(model.parameters(), lr=0.1)\n",
        "optimizer = torch.optim.SGD(model.parameters(), lr=0.1,\n",
        "                            momentum=0.9, weight_decay=1e-4)\n",
        "\n",
        "def get_acc(model, loader):\n",
        "    with torch.no_grad():\n",
        "        correct = 0\n",
        "        for i, data in enumerate(loader):\n",
        "            inputs, labels = data\n",
        "            inputs, labels = inputs.to(device), labels.to(device)\n",
        "            outputs = model(inputs)\n",
        "            correct += (labels == outputs.argmax(dim=1).squeeze()).sum()\n",
        "        acc = float(correct) / len(loader.dataset)\n",
        "    return acc"
      ],
      "execution_count": 70,
      "outputs": [
        {
          "output_type": "stream",
          "name": "stdout",
          "text": [
            "cuda\n"
          ]
        }
      ]
    },
    {
      "cell_type": "code",
      "metadata": {
        "colab": {
          "base_uri": "https://localhost:8080/"
        },
        "id": "5YwsFZo7dLKp",
        "outputId": "b6ee9c3d-9bdd-409d-f7ba-519c142b0bf2"
      },
      "source": [
        "num_epochs = 80\n",
        "eval_every = 100\n",
        "train_acc_his = []\n",
        "val_acc_his = []\n",
        "test_acc_his = []\n",
        "for epoch in range(num_epochs):  # loop over the dataset multiple times\n",
        "    for i, data in enumerate(trainloader):\n",
        "        inputs, labels = data\n",
        "        inputs, labels = inputs.to(device), labels.to(device)\n",
        "        # zero the parameter gradients\n",
        "        optimizer.zero_grad()\n",
        "        # forward + backward + optimize\n",
        "        outputs = model(inputs)\n",
        "        loss = loss_fn(outputs, labels)\n",
        "        loss.backward()\n",
        "        optimizer.step()\n",
        "        if i==0 or (i+1) % eval_every == 0:\n",
        "            train_acc = get_acc(model, trainloader)\n",
        "            val_acc = get_acc(model, validationloader)\n",
        "            test_acc = get_acc(model, testloader)\n",
        "            train_acc_his.append(train_acc)\n",
        "            val_acc_his.append(val_acc)\n",
        "            test_acc_his.append(test_acc)\n",
        "            writer.add_scalar('train_acc', train_acc, len(train_acc_his))\n",
        "            writer.add_scalar('val_acc', val_acc, len(val_acc_his))\n",
        "            writer.add_scalar('test_acc', test_acc, len(test_acc_his))\n",
        "            print('[epoch %d, iter %d] train_acc: %.3f  val_acc: %.3f  test_acc: %.3f' %\n",
        "                  (epoch+1, i+1, train_acc, val_acc, test_acc))"
      ],
      "execution_count": 71,
      "outputs": [
        {
          "output_type": "stream",
          "name": "stdout",
          "text": [
            "[epoch 1, iter 1] train_acc: 0.135  val_acc: 0.140  test_acc: 0.134\n",
            "[epoch 1, iter 100] train_acc: 0.318  val_acc: 0.322  test_acc: 0.319\n",
            "[epoch 2, iter 1] train_acc: 0.365  val_acc: 0.361  test_acc: 0.369\n",
            "[epoch 2, iter 100] train_acc: 0.458  val_acc: 0.458  test_acc: 0.449\n",
            "[epoch 3, iter 1] train_acc: 0.459  val_acc: 0.449  test_acc: 0.456\n",
            "[epoch 3, iter 100] train_acc: 0.536  val_acc: 0.531  test_acc: 0.530\n",
            "[epoch 4, iter 1] train_acc: 0.595  val_acc: 0.587  test_acc: 0.580\n",
            "[epoch 4, iter 100] train_acc: 0.617  val_acc: 0.595  test_acc: 0.590\n",
            "[epoch 5, iter 1] train_acc: 0.634  val_acc: 0.611  test_acc: 0.611\n",
            "[epoch 5, iter 100] train_acc: 0.668  val_acc: 0.637  test_acc: 0.633\n",
            "[epoch 6, iter 1] train_acc: 0.689  val_acc: 0.648  test_acc: 0.650\n",
            "[epoch 6, iter 100] train_acc: 0.708  val_acc: 0.661  test_acc: 0.666\n",
            "[epoch 7, iter 1] train_acc: 0.731  val_acc: 0.674  test_acc: 0.679\n",
            "[epoch 7, iter 100] train_acc: 0.782  val_acc: 0.712  test_acc: 0.714\n",
            "[epoch 8, iter 1] train_acc: 0.787  val_acc: 0.709  test_acc: 0.711\n",
            "[epoch 8, iter 100] train_acc: 0.798  val_acc: 0.713  test_acc: 0.708\n",
            "[epoch 9, iter 1] train_acc: 0.804  val_acc: 0.717  test_acc: 0.711\n",
            "[epoch 9, iter 100] train_acc: 0.837  val_acc: 0.734  test_acc: 0.733\n",
            "[epoch 10, iter 1] train_acc: 0.850  val_acc: 0.740  test_acc: 0.730\n",
            "[epoch 10, iter 100] train_acc: 0.863  val_acc: 0.735  test_acc: 0.727\n",
            "[epoch 11, iter 1] train_acc: 0.829  val_acc: 0.712  test_acc: 0.708\n",
            "[epoch 11, iter 100] train_acc: 0.894  val_acc: 0.744  test_acc: 0.742\n",
            "[epoch 12, iter 1] train_acc: 0.891  val_acc: 0.739  test_acc: 0.735\n",
            "[epoch 12, iter 100] train_acc: 0.913  val_acc: 0.747  test_acc: 0.744\n",
            "[epoch 13, iter 1] train_acc: 0.896  val_acc: 0.743  test_acc: 0.739\n",
            "[epoch 13, iter 100] train_acc: 0.912  val_acc: 0.747  test_acc: 0.740\n",
            "[epoch 14, iter 1] train_acc: 0.936  val_acc: 0.752  test_acc: 0.748\n",
            "[epoch 14, iter 100] train_acc: 0.943  val_acc: 0.751  test_acc: 0.752\n",
            "[epoch 15, iter 1] train_acc: 0.938  val_acc: 0.761  test_acc: 0.752\n",
            "[epoch 15, iter 100] train_acc: 0.960  val_acc: 0.762  test_acc: 0.757\n",
            "[epoch 16, iter 1] train_acc: 0.933  val_acc: 0.743  test_acc: 0.744\n",
            "[epoch 16, iter 100] train_acc: 0.965  val_acc: 0.763  test_acc: 0.758\n",
            "[epoch 17, iter 1] train_acc: 0.961  val_acc: 0.761  test_acc: 0.757\n",
            "[epoch 17, iter 100] train_acc: 0.977  val_acc: 0.774  test_acc: 0.765\n",
            "[epoch 18, iter 1] train_acc: 0.966  val_acc: 0.757  test_acc: 0.754\n",
            "[epoch 18, iter 100] train_acc: 0.966  val_acc: 0.757  test_acc: 0.758\n",
            "[epoch 19, iter 1] train_acc: 0.971  val_acc: 0.764  test_acc: 0.761\n",
            "[epoch 19, iter 100] train_acc: 0.981  val_acc: 0.765  test_acc: 0.773\n",
            "[epoch 20, iter 1] train_acc: 0.970  val_acc: 0.766  test_acc: 0.758\n",
            "[epoch 20, iter 100] train_acc: 0.979  val_acc: 0.767  test_acc: 0.763\n",
            "[epoch 21, iter 1] train_acc: 0.977  val_acc: 0.765  test_acc: 0.762\n",
            "[epoch 21, iter 100] train_acc: 0.984  val_acc: 0.776  test_acc: 0.762\n",
            "[epoch 22, iter 1] train_acc: 0.980  val_acc: 0.768  test_acc: 0.764\n",
            "[epoch 22, iter 100] train_acc: 0.979  val_acc: 0.762  test_acc: 0.762\n",
            "[epoch 23, iter 1] train_acc: 0.989  val_acc: 0.775  test_acc: 0.772\n",
            "[epoch 23, iter 100] train_acc: 0.980  val_acc: 0.765  test_acc: 0.757\n",
            "[epoch 24, iter 1] train_acc: 0.982  val_acc: 0.764  test_acc: 0.765\n",
            "[epoch 24, iter 100] train_acc: 0.986  val_acc: 0.774  test_acc: 0.771\n",
            "[epoch 25, iter 1] train_acc: 0.986  val_acc: 0.767  test_acc: 0.759\n",
            "[epoch 25, iter 100] train_acc: 0.983  val_acc: 0.764  test_acc: 0.760\n",
            "[epoch 26, iter 1] train_acc: 0.975  val_acc: 0.759  test_acc: 0.750\n",
            "[epoch 26, iter 100] train_acc: 0.987  val_acc: 0.774  test_acc: 0.770\n",
            "[epoch 27, iter 1] train_acc: 0.984  val_acc: 0.771  test_acc: 0.760\n",
            "[epoch 27, iter 100] train_acc: 0.986  val_acc: 0.765  test_acc: 0.762\n",
            "[epoch 28, iter 1] train_acc: 0.980  val_acc: 0.764  test_acc: 0.761\n",
            "[epoch 28, iter 100] train_acc: 0.983  val_acc: 0.758  test_acc: 0.759\n",
            "[epoch 29, iter 1] train_acc: 0.984  val_acc: 0.765  test_acc: 0.764\n",
            "[epoch 29, iter 100] train_acc: 0.994  val_acc: 0.779  test_acc: 0.777\n",
            "[epoch 30, iter 1] train_acc: 0.995  val_acc: 0.781  test_acc: 0.778\n",
            "[epoch 30, iter 100] train_acc: 0.998  val_acc: 0.786  test_acc: 0.783\n",
            "[epoch 31, iter 1] train_acc: 0.998  val_acc: 0.782  test_acc: 0.780\n",
            "[epoch 31, iter 100] train_acc: 0.998  val_acc: 0.783  test_acc: 0.782\n",
            "[epoch 32, iter 1] train_acc: 0.998  val_acc: 0.790  test_acc: 0.784\n",
            "[epoch 32, iter 100] train_acc: 0.999  val_acc: 0.784  test_acc: 0.784\n",
            "[epoch 33, iter 1] train_acc: 0.998  val_acc: 0.782  test_acc: 0.777\n",
            "[epoch 33, iter 100] train_acc: 0.996  val_acc: 0.777  test_acc: 0.776\n",
            "[epoch 34, iter 1] train_acc: 0.996  val_acc: 0.777  test_acc: 0.778\n",
            "[epoch 34, iter 100] train_acc: 0.998  val_acc: 0.782  test_acc: 0.777\n",
            "[epoch 35, iter 1] train_acc: 0.993  val_acc: 0.775  test_acc: 0.767\n",
            "[epoch 35, iter 100] train_acc: 0.984  val_acc: 0.767  test_acc: 0.764\n",
            "[epoch 36, iter 1] train_acc: 0.972  val_acc: 0.759  test_acc: 0.751\n",
            "[epoch 36, iter 100] train_acc: 0.979  val_acc: 0.761  test_acc: 0.756\n",
            "[epoch 37, iter 1] train_acc: 0.978  val_acc: 0.760  test_acc: 0.754\n",
            "[epoch 37, iter 100] train_acc: 0.991  val_acc: 0.776  test_acc: 0.770\n",
            "[epoch 38, iter 1] train_acc: 0.994  val_acc: 0.780  test_acc: 0.777\n",
            "[epoch 38, iter 100] train_acc: 0.995  val_acc: 0.778  test_acc: 0.771\n",
            "[epoch 39, iter 1] train_acc: 0.987  val_acc: 0.759  test_acc: 0.764\n",
            "[epoch 39, iter 100] train_acc: 0.990  val_acc: 0.772  test_acc: 0.771\n",
            "[epoch 40, iter 1] train_acc: 0.992  val_acc: 0.772  test_acc: 0.770\n",
            "[epoch 40, iter 100] train_acc: 0.996  val_acc: 0.785  test_acc: 0.774\n",
            "[epoch 41, iter 1] train_acc: 0.991  val_acc: 0.773  test_acc: 0.768\n",
            "[epoch 41, iter 100] train_acc: 0.993  val_acc: 0.776  test_acc: 0.770\n",
            "[epoch 42, iter 1] train_acc: 0.991  val_acc: 0.772  test_acc: 0.771\n",
            "[epoch 42, iter 100] train_acc: 0.988  val_acc: 0.767  test_acc: 0.767\n",
            "[epoch 43, iter 1] train_acc: 0.982  val_acc: 0.756  test_acc: 0.756\n",
            "[epoch 43, iter 100] train_acc: 0.990  val_acc: 0.770  test_acc: 0.766\n",
            "[epoch 44, iter 1] train_acc: 0.988  val_acc: 0.765  test_acc: 0.762\n",
            "[epoch 44, iter 100] train_acc: 0.987  val_acc: 0.768  test_acc: 0.763\n",
            "[epoch 45, iter 1] train_acc: 0.988  val_acc: 0.772  test_acc: 0.768\n",
            "[epoch 45, iter 100] train_acc: 0.989  val_acc: 0.764  test_acc: 0.772\n",
            "[epoch 46, iter 1] train_acc: 0.987  val_acc: 0.771  test_acc: 0.765\n",
            "[epoch 46, iter 100] train_acc: 0.990  val_acc: 0.770  test_acc: 0.771\n",
            "[epoch 47, iter 1] train_acc: 0.992  val_acc: 0.768  test_acc: 0.765\n",
            "[epoch 47, iter 100] train_acc: 0.991  val_acc: 0.776  test_acc: 0.773\n",
            "[epoch 48, iter 1] train_acc: 0.993  val_acc: 0.768  test_acc: 0.771\n",
            "[epoch 48, iter 100] train_acc: 0.997  val_acc: 0.784  test_acc: 0.779\n",
            "[epoch 49, iter 1] train_acc: 0.996  val_acc: 0.776  test_acc: 0.776\n",
            "[epoch 49, iter 100] train_acc: 0.996  val_acc: 0.777  test_acc: 0.774\n",
            "[epoch 50, iter 1] train_acc: 0.997  val_acc: 0.779  test_acc: 0.785\n",
            "[epoch 50, iter 100] train_acc: 0.998  val_acc: 0.784  test_acc: 0.783\n",
            "[epoch 51, iter 1] train_acc: 0.998  val_acc: 0.784  test_acc: 0.787\n",
            "[epoch 51, iter 100] train_acc: 0.999  val_acc: 0.787  test_acc: 0.784\n",
            "[epoch 52, iter 1] train_acc: 0.998  val_acc: 0.784  test_acc: 0.783\n",
            "[epoch 52, iter 100] train_acc: 0.999  val_acc: 0.782  test_acc: 0.779\n",
            "[epoch 53, iter 1] train_acc: 0.999  val_acc: 0.783  test_acc: 0.781\n",
            "[epoch 53, iter 100] train_acc: 0.999  val_acc: 0.782  test_acc: 0.782\n",
            "[epoch 54, iter 1] train_acc: 0.999  val_acc: 0.787  test_acc: 0.785\n",
            "[epoch 54, iter 100] train_acc: 0.996  val_acc: 0.778  test_acc: 0.776\n",
            "[epoch 55, iter 1] train_acc: 0.981  val_acc: 0.756  test_acc: 0.755\n",
            "[epoch 55, iter 100] train_acc: 0.983  val_acc: 0.759  test_acc: 0.762\n",
            "[epoch 56, iter 1] train_acc: 0.977  val_acc: 0.762  test_acc: 0.756\n",
            "[epoch 56, iter 100] train_acc: 0.982  val_acc: 0.763  test_acc: 0.759\n",
            "[epoch 57, iter 1] train_acc: 0.982  val_acc: 0.765  test_acc: 0.762\n",
            "[epoch 57, iter 100] train_acc: 0.990  val_acc: 0.773  test_acc: 0.774\n",
            "[epoch 58, iter 1] train_acc: 0.992  val_acc: 0.774  test_acc: 0.773\n",
            "[epoch 58, iter 100] train_acc: 0.992  val_acc: 0.778  test_acc: 0.772\n",
            "[epoch 59, iter 1] train_acc: 0.991  val_acc: 0.766  test_acc: 0.766\n",
            "[epoch 59, iter 100] train_acc: 0.987  val_acc: 0.763  test_acc: 0.765\n",
            "[epoch 60, iter 1] train_acc: 0.986  val_acc: 0.771  test_acc: 0.765\n",
            "[epoch 60, iter 100] train_acc: 0.993  val_acc: 0.780  test_acc: 0.769\n",
            "[epoch 61, iter 1] train_acc: 0.994  val_acc: 0.774  test_acc: 0.772\n",
            "[epoch 61, iter 100] train_acc: 0.997  val_acc: 0.778  test_acc: 0.780\n",
            "[epoch 62, iter 1] train_acc: 0.992  val_acc: 0.769  test_acc: 0.775\n",
            "[epoch 62, iter 100] train_acc: 0.992  val_acc: 0.776  test_acc: 0.774\n",
            "[epoch 63, iter 1] train_acc: 0.991  val_acc: 0.769  test_acc: 0.768\n",
            "[epoch 63, iter 100] train_acc: 0.993  val_acc: 0.765  test_acc: 0.774\n",
            "[epoch 64, iter 1] train_acc: 0.992  val_acc: 0.768  test_acc: 0.771\n",
            "[epoch 64, iter 100] train_acc: 0.989  val_acc: 0.769  test_acc: 0.765\n",
            "[epoch 65, iter 1] train_acc: 0.989  val_acc: 0.770  test_acc: 0.767\n",
            "[epoch 65, iter 100] train_acc: 0.990  val_acc: 0.779  test_acc: 0.773\n",
            "[epoch 66, iter 1] train_acc: 0.986  val_acc: 0.762  test_acc: 0.765\n",
            "[epoch 66, iter 100] train_acc: 0.985  val_acc: 0.766  test_acc: 0.765\n",
            "[epoch 67, iter 1] train_acc: 0.986  val_acc: 0.763  test_acc: 0.769\n",
            "[epoch 67, iter 100] train_acc: 0.993  val_acc: 0.780  test_acc: 0.779\n",
            "[epoch 68, iter 1] train_acc: 0.995  val_acc: 0.782  test_acc: 0.786\n",
            "[epoch 68, iter 100] train_acc: 0.996  val_acc: 0.782  test_acc: 0.781\n",
            "[epoch 69, iter 1] train_acc: 0.996  val_acc: 0.778  test_acc: 0.778\n",
            "[epoch 69, iter 100] train_acc: 0.994  val_acc: 0.772  test_acc: 0.781\n",
            "[epoch 70, iter 1] train_acc: 0.993  val_acc: 0.776  test_acc: 0.770\n",
            "[epoch 70, iter 100] train_acc: 0.994  val_acc: 0.775  test_acc: 0.772\n",
            "[epoch 71, iter 1] train_acc: 0.993  val_acc: 0.775  test_acc: 0.768\n",
            "[epoch 71, iter 100] train_acc: 0.995  val_acc: 0.777  test_acc: 0.774\n",
            "[epoch 72, iter 1] train_acc: 0.996  val_acc: 0.775  test_acc: 0.777\n",
            "[epoch 72, iter 100] train_acc: 0.998  val_acc: 0.787  test_acc: 0.779\n",
            "[epoch 73, iter 1] train_acc: 0.995  val_acc: 0.779  test_acc: 0.770\n",
            "[epoch 73, iter 100] train_acc: 0.992  val_acc: 0.771  test_acc: 0.768\n",
            "[epoch 74, iter 1] train_acc: 0.991  val_acc: 0.767  test_acc: 0.770\n",
            "[epoch 74, iter 100] train_acc: 0.976  val_acc: 0.750  test_acc: 0.745\n",
            "[epoch 75, iter 1] train_acc: 0.980  val_acc: 0.760  test_acc: 0.763\n",
            "[epoch 75, iter 100] train_acc: 0.989  val_acc: 0.775  test_acc: 0.768\n",
            "[epoch 76, iter 1] train_acc: 0.988  val_acc: 0.770  test_acc: 0.762\n",
            "[epoch 76, iter 100] train_acc: 0.991  val_acc: 0.767  test_acc: 0.771\n",
            "[epoch 77, iter 1] train_acc: 0.995  val_acc: 0.778  test_acc: 0.779\n",
            "[epoch 77, iter 100] train_acc: 0.995  val_acc: 0.774  test_acc: 0.774\n",
            "[epoch 78, iter 1] train_acc: 0.993  val_acc: 0.776  test_acc: 0.774\n",
            "[epoch 78, iter 100] train_acc: 0.997  val_acc: 0.778  test_acc: 0.773\n",
            "[epoch 79, iter 1] train_acc: 0.994  val_acc: 0.775  test_acc: 0.772\n",
            "[epoch 79, iter 100] train_acc: 0.997  val_acc: 0.779  test_acc: 0.777\n",
            "[epoch 80, iter 1] train_acc: 0.993  val_acc: 0.774  test_acc: 0.776\n",
            "[epoch 80, iter 100] train_acc: 0.995  val_acc: 0.779  test_acc: 0.774\n"
          ]
        }
      ]
    },
    {
      "cell_type": "code",
      "metadata": {
        "colab": {
          "base_uri": "https://localhost:8080/",
          "height": 279
        },
        "id": "bmegmtaidLKq",
        "outputId": "143ac38d-f530-47d4-fa48-441efb645a5a"
      },
      "source": [
        "plt.plot(train_acc_his, 'ro-', label='train')\n",
        "plt.plot(val_acc_his, 'bv-', label='validation')\n",
        "plt.plot(test_acc_his, 'g+-', label='test')\n",
        "plt.ylabel('Accuracy')\n",
        "plt.xlabel('Step')\n",
        "plt.legend()\n",
        "plt.show()"
      ],
      "execution_count": 72,
      "outputs": [
        {
          "output_type": "display_data",
          "data": {
            "text/plain": [
              "<Figure size 432x288 with 1 Axes>"
            ],
            "image/png": "[encoded data removed]"
          },
          "metadata": {
            "needs_background": "light"
          }
        }
      ]
    }
  ]
}