{
 "cells": [
  {
   "cell_type": "markdown",
   "metadata": {
    "id": "e3brsgM_WOZd"
   },
   "source": [
    "## In this notebook, you will implement a two-layer neural network model and stochastic gradient descent with momentum in numpy to classify CIFAR-10 images."
   ]
  },
  {
   "cell_type": "code",
   "execution_count": 7,
   "metadata": {
    "colab": {
     "base_uri": "https://localhost:8080/"
    },
    "executionInfo": {
     "elapsed": 14302,
     "status": "ok",
     "timestamp": 1632276861996,
     "user": {
      "displayName": "Tianle Ma",
      "photoUrl": "https://lh3.googleusercontent.com/a-/AOh14GjslYsErUdl9wm3PuttYxEvm20ckxe1k8lccjUz=s64",
      "userId": "01976075297502307997"
     },
     "user_tz": 240
    },
    "id": "tMyjktItWOZg",
    "outputId": "8d45a356-67b6-4da6-a403-aaf96f0fc02c"
   },
   "outputs": [
    {
     "name": "stderr",
     "output_type": "stream",
     "text": [
      "2022-09-25 17:37:44.131986: I tensorflow/core/platform/cpu_feature_guard.cc:193] This TensorFlow binary is optimized with oneAPI Deep Neural Network Library (oneDNN) to use the following CPU instructions in performance-critical operations:  AVX2 FMA\n",
      "To enable them in other operations, rebuild TensorFlow with the appropriate compiler flags.\n"
     ]
    }
   ],
   "source": [
    "# load libraries\n",
    "import numpy as np\n",
    "import matplotlib.pyplot as plt\n",
    "\n",
    "import tensorflow as tf\n",
    "\n",
    "# load CIFAR-10 data\n",
    "(x_train, y_train), (x_test, y_test) = tf.keras.datasets.cifar10.load_data()\n",
    "\n",
    "# preprocess the data\n",
    "x_train = x_train.reshape(x_train.shape[0], -1).astype('float')\n",
    "x_test = x_test.reshape(x_test.shape[0], -1).astype('float')\n",
    "y_train = y_train.squeeze()\n",
    "y_test = y_test.squeeze()\n",
    "\n",
    "x_train = x_train - x_train.mean(axis=1, keepdims=True)\n",
    "x_train = x_train / x_train.std(axis=1, keepdims=True)\n",
    "x_test = x_test - x_test.mean(axis=1, keepdims=True)\n",
    "x_test = x_test / x_test.std(axis=1, keepdims=True)"
   ]
  },
  {
   "cell_type": "code",
   "execution_count": 8,
   "metadata": {},
   "outputs": [],
   "source": []
  },
  {
   "cell_type": "markdown",
   "metadata": {
    "id": "vDDJ4YNpSVkP"
   },
   "source": [
    "# Implement the forward and backward function for a two-layer neural network"
   ]
  },
  {
   "cell_type": "code",
   "execution_count": 285,
   "metadata": {
    "id": "VQal1IREWOZh"
   },
   "outputs": [],
   "source": [
    "class FullyConnectedNet():\n",
    "  def __init__(self, hidden_dim, input_dim=3072, num_classes=10):\n",
    "    super(FullyConnectedNet, self).__init__()\n",
    "    self.params = {}\n",
    "    self.params['W1'] = np.random.randn(input_dim, hidden_dim)/np.sqrt(input_dim/2)\n",
    "    self.params['b1'] = np.zeros(hidden_dim)\n",
    "    self.params['W2'] = np.random.randn(hidden_dim, num_classes)/np.sqrt(hidden_dim/2)\n",
    "    self.params['b2'] = np.zeros(num_classes)\n",
    "    self.grads = {}\n",
    "    self.grads['W1'] = np.zeros_like(self.params['W1'])\n",
    "    self.grads['b1'] = np.zeros_like(self.params['b1'])\n",
    "    self.grads['W2'] = np.zeros_like(self.params['W2'])\n",
    "    self.grads['b2'] = np.zeros_like(self.params['b2'])\n",
    "        \n",
    "  def forward(self, x):\n",
    "    \"\"\"Forward pass: linear -- ReLU -- linear\n",
    "    \n",
    "    Arguments:\n",
    "        x: 2D numpy array of shape (batch_size, input_dim)\n",
    "        \n",
    "    Returns:\n",
    "        scores: 2D numpy array of shape (batch_size, num_classes)\n",
    "        cache: a tuple of numpy arrays, used for backward pass\n",
    "    \"\"\"\n",
    "    ############################Write your code in this block (20 points)#####################\n",
    "    \n",
    "\n",
    "\n",
    "    # Unpack variables from the params dictionary\n",
    "    W1, b1 = self.params['W1'], self.params['b1']\n",
    "    W2, b2 = self.params['W2'], self.params['b2']\n",
    "    N, D = x.shape\n",
    "    \n",
    "    z = np.dot(x,W1) + b1\n",
    "    # First ReLU\n",
    "    h = np.maximum(z, 0)\n",
    "    scores = np.dot(h,W2) + b2\n",
    "    \n",
    "    cache = (x, N, h, z, W1, W2)\n",
    "\n",
    "\n",
    "\n",
    "    \n",
    "\n",
    "    \n",
    "    #################################End of your code#########################################\n",
    "    return scores, cache\n",
    "    \n",
    "  def backward(self, dscores, cache):\n",
    "    \"\"\"Backward pass\n",
    "    \n",
    "    Arguments:\n",
    "        dscores: 2D numpy array of shape (batch_size, num_classes)\n",
    "        cache: a tuple of numpy arrays saved from forward pass\n",
    "        \n",
    "    Returns:\n",
    "        no explicit variable returned\n",
    "        update self.grads['W1'], self.grads['b1'], self.grads['W2'], self.grads['b2']\n",
    "    \"\"\"\n",
    "    #############################Write your code in this block (30 points)######################\n",
    "    \n",
    "\n",
    "\n",
    "    dh = np.dot(dscores, cache[5].T)\n",
    "    dz = np.dot(dscores, cache[5].T) * (cache[3] > 0)  # (N, H)\n",
    "    \n",
    "    #compute gradient for parameters\n",
    "    self.grads['W2'] = np.dot(cache[2].T, dscores) / cache[1]      # (H, C)\n",
    "    self.grads['b2'] = np.sum(dscores, axis=0) / cache[1]      # (C,)\n",
    "    self.grads['W1'] = np.dot(cache[0].T, dz) / cache[1]        # (D, H)\n",
    "    self.grads['b1'] = np.sum(dz, axis=0) / cache[1]       # (H,)\n",
    "    \n",
    "    # add reg term\n",
    "    self.grads['W2'] += 1e-5 * cache[5]\n",
    "    self.grads['W1'] += 1e-5 * cache[4]\n",
    "\n",
    "    \n",
    "\n",
    "\n",
    "\n",
    "\n",
    "    \n",
    "    ##################################End of your code##########################################\n",
    "    return"
   ]
  },
  {
   "cell_type": "code",
   "execution_count": 286,
   "metadata": {
    "id": "Z4SZwmhDUAm4"
   },
   "outputs": [],
   "source": [
    "# The Cross Entropy Loss has been implemented for you\n",
    "def cross_entropy_loss(scores, y, eps=1e-8):\n",
    "  \"\"\"Calculate cross entropy loss and its gradient with respect to scores\n",
    "  \n",
    "  Arguments:\n",
    "      scores: 2D numpy array of shape (batch_size, num_classes), predicted class scores\n",
    "      y: 1D numpy array of shape (batch_size,), true class labels (from 0 to num_classes-1)\n",
    "      \n",
    "  Returns:\n",
    "      loss: scalar\n",
    "      dscores: 2D numpy array of shape (batch_size, num_classes), loss's gradient with respect to scores\n",
    "      \n",
    "  \"\"\"\n",
    "  scores -= scores.max()\n",
    "  exp = np.exp(scores)\n",
    "  exp = np.maximum(exp, eps)\n",
    "  logits = - scores[range(scores.shape[0]), y] + np.log(exp.sum(axis=1))\n",
    "  loss = logits.mean()\n",
    "  dscores = np.zeros_like(scores)\n",
    "  dscores[range(scores.shape[0]), y] = -1\n",
    "  dscores += exp/exp.sum(axis=1, keepdims=True)\n",
    "  dscores /= scores.shape[0]\n",
    "  return loss, dscores"
   ]
  },
  {
   "cell_type": "markdown",
   "metadata": {
    "id": "l4f0QQaqUPYD"
   },
   "source": [
    "# Implement SGD with momentum\n",
    "Initialize $m^{(0)}=0$\n",
    "\n",
    "After $k$ steps, update $m^{(k+1)}$ and $\\theta^{(k+1)}$:\n",
    "$$m^{(k+1)}=\\beta \\cdot m^{(k)} + \\nabla_{\\theta} $$\n",
    "$$\\theta^{(k+1)}=\\theta^{(k)} - \\alpha \\cdot m^{(k+1)}$$\n",
    "If you want to have a deep understanding of SGD with momentum, I recommend [this article](https://distill.pub/2017/momentum)."
   ]
  },
  {
   "cell_type": "code",
   "execution_count": 287,
   "metadata": {
    "id": "nS5BZP87UIco"
   },
   "outputs": [],
   "source": [
    "class SGD():\n",
    "  def __init__(self, params, alpha, beta=0):\n",
    "    \"\"\"\n",
    "    Arguments:\n",
    "      params: a dictionary, with keys being variable names, and values numpy arrays\n",
    "      alpha: learning rate as shown in the formula in above text cell\n",
    "      beta: the momentum coefficient, as shown in the formula in the above text cell;\n",
    "        if beta = 0, then it becomes vallina SGD; Can you figure out why?\n",
    "    \"\"\"    \n",
    "    self.params = params\n",
    "    self.alpha = alpha\n",
    "    self.beta = beta\n",
    "    # Initially, set the momentum m = 0 for all parameters\n",
    "    self.momentum = {n: np.zeros_like(p) for n, p in self.params.items()}\n",
    "\n",
    "  def step(self, grads):\n",
    "    \"\"\"Perform gradient descent\n",
    "    Arguments:\n",
    "        grads: a dictionary, with the same keys as self.params, storing the corresponding gradients;\n",
    "               for example, grads['W1'] is the gradient with respect to self.params['W1']\n",
    "    Returns:\n",
    "        No explicit returns\n",
    "        Update self.params internally\n",
    "    \"\"\"\n",
    "    #Hint: self.params is a dictionary of parameters,\n",
    "    ###### use a for loop to iterate all the items from self.params,\n",
    "    ###### use the formula in the above text cell to update each parameter;\n",
    "    ###### Note self.momentum and grads are all dictionaries with the same keys as self.params\n",
    "    ##############################Write your code in this block (20 points)######################\n",
    "    \n",
    "    for i in self.params.keys():\n",
    "        #print(i)\n",
    "        self.momentum[i] = (self.beta)*(self.momentum[i]) + grads[i]\n",
    "        self.params[i] = self.params[i] - alpha*(self.momentum[i])\n",
    "\n",
    "           \n",
    "\n",
    "\n",
    "\n",
    "    \n",
    "    ###################################End of your code##########################################\n",
    "    return"
   ]
  },
  {
   "cell_type": "markdown",
   "metadata": {
    "id": "U4b07yQhWOZi"
   },
   "source": [
    "# Test your implementation using the following code"
   ]
  },
  {
   "cell_type": "code",
   "execution_count": 288,
   "metadata": {
    "id": "WlYsyi7nWOZi"
   },
   "outputs": [],
   "source": [
    "hidden_dim = 200\n",
    "model = FullyConnectedNet(hidden_dim=hidden_dim)"
   ]
  },
  {
   "cell_type": "code",
   "execution_count": 289,
   "metadata": {
    "colab": {
     "base_uri": "https://localhost:8080/"
    },
    "executionInfo": {
     "elapsed": 2949,
     "status": "ok",
     "timestamp": 1632276865087,
     "user": {
      "displayName": "Tianle Ma",
      "photoUrl": "https://lh3.googleusercontent.com/a-/AOh14GjslYsErUdl9wm3PuttYxEvm20ckxe1k8lccjUz=s64",
      "userId": "01976075297502307997"
     },
     "user_tz": 240
    },
    "id": "A4h5pDB-WOZj",
    "outputId": "a0f8cec1-42aa-414a-8bd6-57be4eeae128"
   },
   "outputs": [
    {
     "name": "stdout",
     "output_type": "stream",
     "text": [
      "Before training, training accuracy=0.07292, test accuracy=0.075\n"
     ]
    }
   ],
   "source": [
    "y_pred, _ = model.forward(x_train)\n",
    "acc_train = np.mean(y_pred.argmax(axis=1) == y_train)\n",
    "y_pred, _ = model.forward(x_test)\n",
    "acc_test = np.mean(y_pred.argmax(axis=1) == y_test)\n",
    "print(f'Before training, training accuracy={acc_train}, test accuracy={acc_test}')"
   ]
  },
  {
   "cell_type": "code",
   "execution_count": 290,
   "metadata": {
    "id": "7DPL2x5oWOZj"
   },
   "outputs": [],
   "source": [
    "loss_history = []\n",
    "acc_train_history = []\n",
    "acc_val_history = []"
   ]
  },
  {
   "cell_type": "code",
   "execution_count": 291,
   "metadata": {
    "colab": {
     "base_uri": "https://localhost:8080/"
    },
    "executionInfo": {
     "elapsed": 182446,
     "status": "ok",
     "timestamp": 1632277047524,
     "user": {
      "displayName": "Tianle Ma",
      "photoUrl": "https://lh3.googleusercontent.com/a-/AOh14GjslYsErUdl9wm3PuttYxEvm20ckxe1k8lccjUz=s64",
      "userId": "01976075297502307997"
     },
     "user_tz": 240
    },
    "id": "EvEm7nsyWOZk",
    "outputId": "f200806e-b8d0-479d-84b1-f3b67fd16ace"
   },
   "outputs": [
    {
     "name": "stdout",
     "output_type": "stream",
     "text": [
      "1 loss=3.016896593928264, acc_train=0.076, acc_val=0.064\n",
      "100 loss=2.742816155465817, acc_train=0.094, acc_val=0.088\n",
      "200 loss=2.5670117425434493, acc_train=0.152, acc_val=0.16\n",
      "300 loss=2.3668255767217534, acc_train=0.196, acc_val=0.14\n",
      "400 loss=2.395168865400764, acc_train=0.18, acc_val=0.172\n",
      "500 loss=2.3276700707024545, acc_train=0.184, acc_val=0.2\n",
      "600 loss=2.3162083018874218, acc_train=0.224, acc_val=0.21\n",
      "700 loss=2.213133495783145, acc_train=0.23, acc_val=0.198\n",
      "800 loss=2.1790269994919162, acc_train=0.24, acc_val=0.218\n",
      "900 loss=2.180045140862952, acc_train=0.252, acc_val=0.264\n",
      "1000 loss=2.090071266234527, acc_train=0.268, acc_val=0.224\n",
      "1100 loss=1.9745335346215787, acc_train=0.286, acc_val=0.27\n",
      "1200 loss=2.054085404044417, acc_train=0.288, acc_val=0.236\n",
      "1300 loss=2.0634405397559457, acc_train=0.288, acc_val=0.286\n",
      "1400 loss=2.073347591978443, acc_train=0.306, acc_val=0.294\n",
      "1500 loss=2.050503831093237, acc_train=0.312, acc_val=0.28\n",
      "1600 loss=2.022117097510687, acc_train=0.304, acc_val=0.288\n",
      "1700 loss=2.0129983188244123, acc_train=0.29, acc_val=0.302\n",
      "1800 loss=1.9836193496402712, acc_train=0.3, acc_val=0.32\n",
      "1900 loss=1.9341506738205099, acc_train=0.326, acc_val=0.314\n",
      "2000 loss=2.033363709238568, acc_train=0.264, acc_val=0.302\n"
     ]
    }
   ],
   "source": [
    "num_iters = 2000\n",
    "batch_size = 500\n",
    "alpha = 1e-2\n",
    "beta = 0.9\n",
    "optimizer = SGD(model.params, alpha=alpha, beta=beta)\n",
    "print_every = num_iters//20\n",
    "for i in range(num_iters):\n",
    "    idx = np.random.choice(x_train.shape[0], batch_size)\n",
    "    x_batch = x_train[idx]\n",
    "    y_batch = y_train[idx]\n",
    "    scores, cache = model.forward(x_batch)\n",
    "    loss, dscores = cross_entropy_loss(scores, y_batch)\n",
    "    model.backward(dscores, cache)\n",
    "    optimizer.step(model.grads)\n",
    "    loss_history.append(loss.item())\n",
    "    acc_train = np.mean(scores.argmax(axis=1) == y_batch)\n",
    "    acc_train_history.append(acc_train.item())\n",
    "    # test accuracy\n",
    "    idx = np.random.choice(x_test.shape[0], batch_size)\n",
    "    x_batch = x_test[idx]\n",
    "    y_batch = y_test[idx]\n",
    "    scores, cache = model.forward(x_batch)\n",
    "    acc_val = np.mean(scores.argmax(axis=1) == y_batch)\n",
    "    acc_val_history.append(acc_val.item())\n",
    "    if i == 0 or i == num_iters-1 or (i+1)%print_every == 0:\n",
    "        print(f'{i+1} loss={loss}, acc_train={acc_train}, acc_val={acc_val}')"
   ]
  },
  {
   "cell_type": "code",
   "execution_count": 292,
   "metadata": {
    "colab": {
     "base_uri": "https://localhost:8080/",
     "height": 541
    },
    "executionInfo": {
     "elapsed": 466,
     "status": "ok",
     "timestamp": 1632277047981,
     "user": {
      "displayName": "Tianle Ma",
      "photoUrl": "https://lh3.googleusercontent.com/a-/AOh14GjslYsErUdl9wm3PuttYxEvm20ckxe1k8lccjUz=s64",
      "userId": "01976075297502307997"
     },
     "user_tz": 240
    },
    "id": "_Q2yzUzDWOZk",
    "outputId": "02dddd52-482d-4c67-c9dc-8ab631275f18"
   },
   "outputs": [
    {
     "data": {
      "image/png": "[encoded data removed]",
      "text/plain": [
       "<Figure size 432x288 with 1 Axes>"
      ]
     },
     "metadata": {
      "needs_background": "light"
     },
     "output_type": "display_data"
    },
    {
     "data": {
      "image/png": "[encoded data removed]",
      "text/plain": [
       "<Figure size 432x288 with 1 Axes>"
      ]
     },
     "metadata": {
      "needs_background": "light"
     },
     "output_type": "display_data"
    }
   ],
   "source": [
    "plt.plot(loss_history)\n",
    "plt.xlabel('iteration')\n",
    "plt.ylabel('loss')\n",
    "plt.show()\n",
    "plt.plot(acc_train_history, 'b-', label='train')\n",
    "plt.plot(acc_val_history, 'g-', label='val')\n",
    "plt.xlabel('iteration')\n",
    "plt.ylabel('acc')\n",
    "plt.legend()\n",
    "plt.show()"
   ]
  },
  {
   "cell_type": "code",
   "execution_count": 293,
   "metadata": {
    "colab": {
     "base_uri": "https://localhost:8080/"
    },
    "executionInfo": {
     "elapsed": 2841,
     "status": "ok",
     "timestamp": 1632277050815,
     "user": {
      "displayName": "Tianle Ma",
      "photoUrl": "https://lh3.googleusercontent.com/a-/AOh14GjslYsErUdl9wm3PuttYxEvm20ckxe1k8lccjUz=s64",
      "userId": "01976075297502307997"
     },
     "user_tz": 240
    },
    "id": "g7EV431gWOZl",
    "outputId": "78295cbf-a3a7-4e43-c9a5-9552ba9daf7e"
   },
   "outputs": [
    {
     "name": "stdout",
     "output_type": "stream",
     "text": [
      "After training, training accuracy=0.3049, test accuracy=0.2994\n"
     ]
    }
   ],
   "source": [
    "y_pred, _ = model.forward(x_train)\n",
    "acc_train = np.mean(y_pred.argmax(axis=1) == y_train)\n",
    "y_pred, _ = model.forward(x_test)\n",
    "acc_test = np.mean(y_pred.argmax(axis=1) == y_test)\n",
    "## You should achieve a test accuracy at least 0.4\n",
    "print(f'After training, training accuracy={acc_train}, test accuracy={acc_test}')"
   ]
  },
  {
   "cell_type": "markdown",
   "metadata": {
    "id": "kMzSMdZzWOZl"
   },
   "source": [
    "# Try different hyperparameters: hidden_dim, lr, batch_size, num_iters, find one that can achieve the best test accuracy"
   ]
  },
  {
   "cell_type": "code",
   "execution_count": 294,
   "metadata": {
    "colab": {
     "base_uri": "https://localhost:8080/",
     "height": 928
    },
    "executionInfo": {
     "elapsed": 155889,
     "status": "ok",
     "timestamp": 1632277206699,
     "user": {
      "displayName": "Tianle Ma",
      "photoUrl": "https://lh3.googleusercontent.com/a-/AOh14GjslYsErUdl9wm3PuttYxEvm20ckxe1k8lccjUz=s64",
      "userId": "01976075297502307997"
     },
     "user_tz": 240
    },
    "id": "rFJ8iKnqWOZl",
    "outputId": "d8ab4cb4-9072-4aba-cb59-547acdc65b36"
   },
   "outputs": [
    {
     "name": "stdout",
     "output_type": "stream",
     "text": [
      "1 loss=2.7139688099598427, acc_train=0.14, acc_val=0.12\n",
      "50 loss=1.9886296991856343, acc_train=0.26, acc_val=0.24\n",
      "100 loss=1.838223224106724, acc_train=0.34, acc_val=0.43\n",
      "150 loss=1.7632144981553861, acc_train=0.38, acc_val=0.3\n",
      "200 loss=1.5179531580037606, acc_train=0.44, acc_val=0.48\n",
      "250 loss=1.9778858353510445, acc_train=0.29, acc_val=0.39\n",
      "300 loss=1.6244286895355813, acc_train=0.42, acc_val=0.42\n",
      "350 loss=1.5277724388014315, acc_train=0.45, acc_val=0.37\n",
      "400 loss=1.5779174800333235, acc_train=0.39, acc_val=0.55\n",
      "450 loss=1.6513287839265494, acc_train=0.47, acc_val=0.35\n",
      "500 loss=1.5984428897829188, acc_train=0.47, acc_val=0.36\n",
      "550 loss=1.4497363426328735, acc_train=0.5, acc_val=0.44\n",
      "600 loss=1.5092605532544896, acc_train=0.49, acc_val=0.47\n",
      "650 loss=1.517672501639114, acc_train=0.5, acc_val=0.56\n",
      "700 loss=1.591655131568027, acc_train=0.41, acc_val=0.42\n",
      "750 loss=1.4363950174919942, acc_train=0.52, acc_val=0.41\n",
      "800 loss=1.6084137242931018, acc_train=0.43, acc_val=0.4\n",
      "850 loss=1.463743109603365, acc_train=0.45, acc_val=0.47\n",
      "900 loss=1.45159622081644, acc_train=0.51, acc_val=0.38\n",
      "950 loss=1.4116016304219265, acc_train=0.48, acc_val=0.6\n",
      "1000 loss=1.4093649287933632, acc_train=0.51, acc_val=0.46\n"
     ]
    },
    {
     "data": {
      "image/png": "[encoded data removed]",
      "text/plain": [
       "<Figure size 432x288 with 1 Axes>"
      ]
     },
     "metadata": {
      "needs_background": "light"
     },
     "output_type": "display_data"
    },
    {
     "data": {
      "image/png": "[encoded data removed]",
      "text/plain": [
       "<Figure size 432x288 with 1 Axes>"
      ]
     },
     "metadata": {
      "needs_background": "light"
     },
     "output_type": "display_data"
    },
    {
     "name": "stdout",
     "output_type": "stream",
     "text": [
      "After training, training accuracy=0.50474, test accuracy=0.4573\n"
     ]
    }
   ],
   "source": [
    "###############Modify these hyperparameters and find the best ones (20 points)##################\n",
    "###############You can write a loop to search for the best parameters if your want##############\n",
    "hidden_dim = 300\n",
    "alpha = 1e-1\n",
    "beta = 0.9\n",
    "batch_size = 100\n",
    "num_iters = 1000\n",
    "#################################################################################################\n",
    "\n",
    "model = FullyConnectedNet(hidden_dim=hidden_dim)\n",
    "optimizer = SGD(model.params, alpha=alpha, beta=beta)\n",
    "loss_history = []\n",
    "acc_train_history = []\n",
    "acc_val_history = []\n",
    "print_every = num_iters//20\n",
    "for i in range(num_iters):\n",
    "    idx = np.random.choice(x_train.shape[0], batch_size)\n",
    "    x_batch = x_train[idx]\n",
    "    y_batch = y_train[idx]\n",
    "    scores, cache = model.forward(x_batch)\n",
    "    loss, dscores = cross_entropy_loss(scores, y_batch)\n",
    "    model.backward(dscores, cache)\n",
    "    optimizer.step(model.grads)\n",
    "    loss_history.append(loss.item())\n",
    "    acc_train = np.mean(scores.argmax(axis=1) == y_batch)\n",
    "    acc_train_history.append(acc_train.item())\n",
    "    # test accuracy\n",
    "    idx = np.random.choice(x_test.shape[0], batch_size)\n",
    "    x_batch = x_test[idx]\n",
    "    y_batch = y_test[idx]\n",
    "    scores, cache = model.forward(x_batch)\n",
    "    acc_val = np.mean(scores.argmax(axis=1) == y_batch)\n",
    "    acc_val_history.append(acc_val.item())\n",
    "    if i == 0 or i == num_iters-1 or (i+1)%print_every == 0:\n",
    "        print(f'{i+1} loss={loss}, acc_train={acc_train}, acc_val={acc_val}')\n",
    "        \n",
    "plt.plot(loss_history)\n",
    "plt.xlabel('iteration')\n",
    "plt.ylabel('loss')\n",
    "plt.show()\n",
    "plt.plot(acc_train_history, 'b-', label='train')\n",
    "plt.plot(acc_val_history, 'g-', label='val')\n",
    "plt.xlabel('iteration')\n",
    "plt.ylabel('acc')\n",
    "plt.legend()\n",
    "plt.show()\n",
    "\n",
    "y_pred, _ = model.forward(x_train)\n",
    "acc_train = np.mean(y_pred.argmax(axis=1) == y_train)\n",
    "y_pred, _ = model.forward(x_test)\n",
    "acc_test = np.mean(y_pred.argmax(axis=1) == y_test)\n",
    "## You should achieve a test accuracy at least 0.4\n",
    "print(f'After training, training accuracy={acc_train}, test accuracy={acc_test}')"
   ]
  },
  {
   "cell_type": "code",
   "execution_count": null,
   "metadata": {},
   "outputs": [],
   "source": []
  }
 ],
 "metadata": {
  "colab": {
   "collapsed_sections": [],
   "provenance": [
    {
     "file_id": "1kuk-qwRQp0P8tzQ9HWMiV6uLJujmmXbp",
     "timestamp": 1662608463816
    }
   ]
  },
  "kernelspec": {
   "display_name": "Python 3 (ipykernel)",
   "language": "python",
   "name": "python3"
  },
  "language_info": {
   "codemirror_mode": {
    "name": "ipython",
    "version": 3
   },
   "file_extension": ".py",
   "mimetype": "text/x-python",
   "name": "python",
   "nbconvert_exporter": "python",
   "pygments_lexer": "ipython3",
   "version": "3.9.12"
  }
 },
 "nbformat": 4,
 "nbformat_minor": 1
}
