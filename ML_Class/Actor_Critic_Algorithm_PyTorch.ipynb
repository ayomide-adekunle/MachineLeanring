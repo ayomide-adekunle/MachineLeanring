{
  "nbformat": 4,
  "nbformat_minor": 0,
  "metadata": {
    "colab": {
      "provenance": [],
      "collapsed_sections": []
    },
    "kernelspec": {
      "display_name": "Python 3",
      "language": "python",
      "name": "python3"
    },
    "language_info": {
      "codemirror_mode": {
        "name": "ipython",
        "version": 3
      },
      "file_extension": ".py",
      "mimetype": "text/x-python",
      "name": "python",
      "nbconvert_exporter": "python",
      "pygments_lexer": "ipython3",
      "version": "3.8.8"
    },
    "accelerator": "GPU"
  },
  "cells": [
    {
      "cell_type": "markdown",
      "metadata": {
        "id": "p62G8M_viUJp"
      },
      "source": [
        "# Playing CartPole with the Actor-Critic Method (Total 70 points)\n"
      ]
    },
    {
      "cell_type": "markdown",
      "metadata": {
        "id": "kFgN7h_wiUJq"
      },
      "source": [
        "This notebook demonstrates how to implement the [Actor-Critic](https://papers.nips.cc/paper/1786-actor-critic-algorithms.pdf) method using TensorFlow to train an agent on the [Open AI Gym](https://gym.openai.com/) CartPole-V0 environment.\n",
        "The reader is assumed to have some familiarity with [policy gradient methods](https://papers.nips.cc/paper/1713-policy-gradient-methods-for-reinforcement-learning-with-function-approximation.pdf) of reinforcement learning. \n"
      ]
    },
    {
      "cell_type": "markdown",
      "metadata": {
        "id": "_kA10ZKRR0hi"
      },
      "source": [
        "**Actor-Critic methods**\n",
        "\n",
        "Actor-Critic methods are [temporal difference (TD) learning](https://en.wikipedia.org/wiki/Temporal_difference_learning) methods that represent the policy function independent of the value function. \n",
        "\n",
        "A policy function (or policy) returns a probability distribution over actions that the agent can take based on the given state.\n",
        "A value function determines the expected return for an agent starting at a given state and acting according to a particular policy forever after.\n",
        "\n",
        "In the Actor-Critic method, the policy is referred to as the *actor* that proposes a set of possible actions given a state, and the estimated value function is referred to as the *critic*, which evaluates actions taken by the *actor* based on the given policy.\n",
        "\n",
        "In this notebook, both the *Actor* and *Critic* will be represented using one neural network with two outputs.\n"
      ]
    },
    {
      "cell_type": "markdown",
      "metadata": {
        "id": "rBfiafKSRs2k"
      },
      "source": [
        "**CartPole-v0**\n",
        "\n",
        "In the [CartPole-v0 environment](https://gym.openai.com/envs/CartPole-v0), a pole is attached to a cart moving along a frictionless track. \n",
        "The pole starts upright and the goal of the agent is to prevent it from falling over by applying a force of -1 or +1 to the cart. \n",
        "A reward of +1 is given for every time step the pole remains upright.\n",
        "An episode ends when (1) the pole is more than 15 degrees from vertical or (2) the cart moves more than 2.4 units from the center."
      ]
    },
    {
      "cell_type": "markdown",
      "metadata": {
        "id": "XSNVK0AeRoJd"
      },
      "source": [
        "The problem is considered \"solved\" when the average total reward for the episode reaches 195 over 100 consecutive trials."
      ]
    },
    {
      "cell_type": "markdown",
      "metadata": {
        "id": "glLwIctHiUJq"
      },
      "source": [
        "## Setup\n",
        "\n",
        "Import necessary packages and configure global settings.\n"
      ]
    },
    {
      "cell_type": "code",
      "metadata": {
        "colab": {
          "base_uri": "https://localhost:8080/"
        },
        "id": "bq-u6nfkV8vE",
        "outputId": "bdd335ca-f988-4151-f70a-c4263bd2156a"
      },
      "source": [
        "%%bash\n",
        "pip install gym[classic_control]\n",
        "pip install gym\n",
        "pip install pyglet\n",
        "\n",
        "sudo apt-get install -y xvfb python-opengl > /dev/null 2>&1\n",
        "pip install pyvirtualdisplay > /dev/null 2>&1\n",
        "pip install git+https://github.com/tensorflow/docs > /dev/null 2>&1"
      ],
      "execution_count": 23,
      "outputs": [
        {
          "output_type": "stream",
          "name": "stdout",
          "text": [
            "Looking in indexes: https://pypi.org/simple, https://us-python.pkg.dev/colab-wheels/public/simple/\n",
            "Requirement already satisfied: gym[classic_control] in /usr/local/lib/python3.7/dist-packages (0.25.2)\n",
            "Requirement already satisfied: cloudpickle>=1.2.0 in /usr/local/lib/python3.7/dist-packages (from gym[classic_control]) (1.5.0)\n",
            "Requirement already satisfied: numpy>=1.18.0 in /usr/local/lib/python3.7/dist-packages (from gym[classic_control]) (1.21.6)\n",
            "Requirement already satisfied: gym-notices>=0.0.4 in /usr/local/lib/python3.7/dist-packages (from gym[classic_control]) (0.0.8)\n",
            "Requirement already satisfied: importlib-metadata>=4.8.0 in /usr/local/lib/python3.7/dist-packages (from gym[classic_control]) (4.13.0)\n",
            "Collecting pygame==2.1.0\n",
            "  Downloading pygame-2.1.0-cp37-cp37m-manylinux_2_17_x86_64.manylinux2014_x86_64.whl (18.3 MB)\n",
            "Requirement already satisfied: typing-extensions>=3.6.4 in /usr/local/lib/python3.7/dist-packages (from importlib-metadata>=4.8.0->gym[classic_control]) (4.1.1)\n",
            "Requirement already satisfied: zipp>=0.5 in /usr/local/lib/python3.7/dist-packages (from importlib-metadata>=4.8.0->gym[classic_control]) (3.10.0)\n",
            "Installing collected packages: pygame\n",
            "Successfully installed pygame-2.1.0\n",
            "Looking in indexes: https://pypi.org/simple, https://us-python.pkg.dev/colab-wheels/public/simple/\n",
            "Requirement already satisfied: gym in /usr/local/lib/python3.7/dist-packages (0.25.2)\n",
            "Requirement already satisfied: cloudpickle>=1.2.0 in /usr/local/lib/python3.7/dist-packages (from gym) (1.5.0)\n",
            "Requirement already satisfied: importlib-metadata>=4.8.0 in /usr/local/lib/python3.7/dist-packages (from gym) (4.13.0)\n",
            "Requirement already satisfied: numpy>=1.18.0 in /usr/local/lib/python3.7/dist-packages (from gym) (1.21.6)\n",
            "Requirement already satisfied: gym-notices>=0.0.4 in /usr/local/lib/python3.7/dist-packages (from gym) (0.0.8)\n",
            "Requirement already satisfied: typing-extensions>=3.6.4 in /usr/local/lib/python3.7/dist-packages (from importlib-metadata>=4.8.0->gym) (4.1.1)\n",
            "Requirement already satisfied: zipp>=0.5 in /usr/local/lib/python3.7/dist-packages (from importlib-metadata>=4.8.0->gym) (3.10.0)\n",
            "Looking in indexes: https://pypi.org/simple, https://us-python.pkg.dev/colab-wheels/public/simple/\n",
            "Requirement already satisfied: pyglet in /usr/local/lib/python3.7/dist-packages (2.0.0)\n"
          ]
        }
      ]
    },
    {
      "cell_type": "code",
      "metadata": {
        "id": "tT4N3qYviUJr",
        "tags": [],
        "colab": {
          "base_uri": "https://localhost:8080/"
        },
        "outputId": "14238c73-0007-42ac-d0bb-ef224c018bea"
      },
      "source": [
        "import collections, statistics\n",
        "from typing import Any, List, Sequence, Tuple\n",
        "import numpy as np\n",
        "from matplotlib import pyplot as plt\n",
        "import tqdm\n",
        "import gym\n",
        "\n",
        "import torch\n",
        "import torch.nn as nn\n",
        "\n",
        "# Create the environment\n",
        "env = gym.make(\"CartPole-v0\")\n",
        "\n",
        "# Set seed for experiment reproducibility\n",
        "seed = 42\n",
        "env.seed(seed)\n",
        "torch.manual_seed(seed)\n",
        "np.random.seed(seed)\n",
        "\n",
        "# Small epsilon value for stabilizing division operations\n",
        "eps = np.finfo(np.float32).eps.item()\n",
        "\n",
        "device = 'cuda' if torch.cuda.is_available else 'cpu'"
      ],
      "execution_count": 14,
      "outputs": [
        {
          "output_type": "stream",
          "name": "stderr",
          "text": [
            "/usr/local/lib/python3.7/dist-packages/gym/envs/registration.py:594: UserWarning: \u001b[33mWARN: The environment CartPole-v0 is out of date. You should consider upgrading to version `v1`.\u001b[0m\n",
            "  f\"The environment {id} is out of date. You should consider \"\n",
            "/usr/local/lib/python3.7/dist-packages/gym/core.py:318: DeprecationWarning: \u001b[33mWARN: Initializing wrapper in old step API which returns one bool instead of two. It is recommended to set `new_step_api=True` to use new step API. This will be the default behaviour in future.\u001b[0m\n",
            "  \"Initializing wrapper in old step API which returns one bool instead of two. It is recommended to set `new_step_api=True` to use new step API. This will be the default behaviour in future.\"\n",
            "/usr/local/lib/python3.7/dist-packages/gym/wrappers/step_api_compatibility.py:40: DeprecationWarning: \u001b[33mWARN: Initializing environment in old step API which returns one bool instead of two. It is recommended to set `new_step_api=True` to use new step API. This will be the default behaviour in future.\u001b[0m\n",
            "  \"Initializing environment in old step API which returns one bool instead of two. It is recommended to set `new_step_api=True` to use new step API. This will be the default behaviour in future.\"\n",
            "/usr/local/lib/python3.7/dist-packages/gym/core.py:257: DeprecationWarning: \u001b[33mWARN: Function `env.seed(seed)` is marked as deprecated and will be removed in the future. Please use `env.reset(seed=seed)` instead.\u001b[0m\n",
            "  \"Function `env.seed(seed)` is marked as deprecated and will be removed in the future. \"\n"
          ]
        }
      ]
    },
    {
      "cell_type": "markdown",
      "metadata": {
        "id": "AOUCe2D0iUJu"
      },
      "source": [
        "## Model\n",
        "### Fill in the blanks: 30 points\n",
        "\n",
        "The *Actor* and *Critic* will be modeled using one neural network that generates the action probabilities and critic value respectively. \n",
        "\n",
        "During the forward pass, the model will take in the state as the input and will output both action probabilities and critic value $V$, which models the state-dependent [value function](https://spinningup.openai.com/en/latest/spinningup/rl_intro.html#value-functions). The goal is to train a model that chooses actions based on a policy $\\pi$ that maximizes expected [return](https://spinningup.openai.com/en/latest/spinningup/rl_intro.html#reward-and-return).\n",
        "\n",
        "For Cartpole-v0, there are four values representing the state: cart position, cart-velocity, pole angle and pole velocity respectively. The agent can take two actions to push the cart left (0) and right (1) respectively.\n",
        "\n",
        "Refer to [OpenAI Gym's CartPole-v0 wiki page](http://www.derongliu.org/adp/adp-cdrom/Barto1983.pdf) for more information.\n"
      ]
    },
    {
      "cell_type": "code",
      "metadata": {
        "id": "aXKbbMC-kmuv"
      },
      "source": [
        "class ActorCritic(nn.Module):\n",
        "  \"\"\"Combined actor-critic network.\"\"\"\n",
        "\n",
        "  def __init__(\n",
        "      self, \n",
        "      num_actions: int, \n",
        "      num_hidden_units: int,\n",
        "      in_features: int = 4):\n",
        "    \"\"\"Initialize.\"\"\"\n",
        "    super().__init__()\n",
        "    ##########################################################Start you code here#####################################################################\n",
        "    # 30 points\n",
        "    # Add three lines; each line defines a nn.Linear layer; the three layers are named as self.common, self.actor, self.critic\n",
        "    # For self.common layer, in_features = in_features, out_features = num_hidden_units; all other arguments are default values\n",
        "    # For self.actor layer, in_features = num_hidden_units, out_features = num_actions; all other arguments are default values\n",
        "    # For self.critic layer, in_features = num_hidden_units, out_features = 1; all other arguments are default values\n",
        "\n",
        "    self.common = nn.Linear(in_features = in_features, out_features = num_hidden_units)\n",
        "    self.actor = nn.Linear(in_features = num_hidden_units, out_features = num_actions)\n",
        "    self.critic = nn.Linear(in_features = num_hidden_units, out_features = 1)\n",
        "\n",
        "\n",
        "\n",
        "    ###########################################################End you code###########################################################################\n",
        "\n",
        "  def forward(self, inputs: torch.Tensor) -> Tuple[torch.Tensor, torch.Tensor]:\n",
        "    x = nn.functional.relu(self.common(inputs))\n",
        "    return self.actor(x), self.critic(x)"
      ],
      "execution_count": 15,
      "outputs": []
    },
    {
      "cell_type": "code",
      "metadata": {
        "id": "nWyxJgjLn68c"
      },
      "source": [
        "num_actions = env.action_space.n  # 2\n",
        "num_hidden_units = 128\n",
        "\n",
        "model = ActorCritic(num_actions, num_hidden_units).to(device)"
      ],
      "execution_count": 16,
      "outputs": []
    },
    {
      "cell_type": "markdown",
      "metadata": {
        "id": "hk92njFziUJw"
      },
      "source": [
        "## Training\n",
        "\n",
        "To train the agent, you will follow these steps:\n",
        "\n",
        "1. Run the agent on the environment to collect training data per episode.\n",
        "2. Compute expected return at each time step.\n",
        "3. Compute the loss for the combined actor-critic model.\n",
        "4. Compute gradients and update network parameters.\n",
        "5. Repeat 1-4 until either success criterion or max episodes has been reached.\n"
      ]
    },
    {
      "cell_type": "markdown",
      "metadata": {
        "id": "R2nde2XDs8Gh"
      },
      "source": [
        "### 1. Collecting training data\n",
        "\n",
        "As in supervised learning, in order to train the actor-critic model, you need\n",
        "to have training data. However, in order to collect such data, the model would\n",
        "need to be \"run\" in the environment.\n",
        "\n",
        "Training data is collected for each episode. Then at each time step, the model's forward pass will be run on the environment's state in order to generate action probabilities and the critic value based on the current policy parameterized by the model's weights.\n",
        "\n",
        "The next action will be sampled from the action probabilities generated by the model, which would then be applied to the environment, causing the next state and reward to be generated.\n",
        "\n",
        "This process is implemented in the `run_episode` function."
      ]
    },
    {
      "cell_type": "code",
      "metadata": {
        "id": "5URrbGlDSAGx"
      },
      "source": [
        "# Wrap OpenAI Gym's `env.step` call as an operation in a function.\n",
        "\n",
        "def env_step(action: np.ndarray) -> Tuple[torch.Tensor, torch.Tensor, torch.Tensor]:\n",
        "  \"\"\"Returns state, reward and done flag given an action.\"\"\"\n",
        "\n",
        "  state, reward, done, _ = env.step(action)\n",
        "  return (torch.from_numpy(state.astype(np.float32)).to(device), \n",
        "          torch.from_numpy(np.array(reward, np.int32)).to(device), \n",
        "          torch.from_numpy(np.array(done, np.int32)).to(device))\n",
        "\n",
        "def run_episode(\n",
        "    initial_state: torch.Tensor,  \n",
        "    model: nn.Module, \n",
        "    max_steps: int) -> Tuple[torch.Tensor, torch.Tensor, torch.Tensor]:\n",
        "  \"\"\"Runs a single episode to collect training data.\"\"\"\n",
        "\n",
        "  action_probs = []\n",
        "  values = []\n",
        "  rewards = []\n",
        "\n",
        "  initial_state_shape = initial_state.shape\n",
        "  state = initial_state\n",
        "\n",
        "  for t in range(max_steps):\n",
        "    # Convert state into a batched tensor (batch size = 1)\n",
        "    state = torch.unsqueeze(state, 0)\n",
        "  \n",
        "    # Run the model and to get action probabilities and critic value\n",
        "    action_logits_t, value = model(state)\n",
        "  \n",
        "    # Sample next action from the action probability distribution\n",
        "    m = torch.distributions.categorical.Categorical(logits=action_logits_t)\n",
        "    action = m.sample().item()\n",
        "    action_probs_t = torch.nn.functional.softmax(action_logits_t, dim=1)\n",
        "\n",
        "    # Store critic values\n",
        "    values.append(value.squeeze())\n",
        "\n",
        "    # Store probability of the action chosen\n",
        "    action_probs.append(action_probs_t[0, action])\n",
        "  \n",
        "    # Apply action to the environment to get next state and reward\n",
        "    state, reward, done = env_step(action)\n",
        "    state = state.reshape(initial_state_shape)\n",
        "  \n",
        "    # Store reward\n",
        "    rewards.append(reward)\n",
        "\n",
        "    if done:\n",
        "      break\n",
        "\n",
        "  action_probs = torch.stack(action_probs, dim=0)\n",
        "  values = torch.stack(values, dim=0)\n",
        "  rewards = torch.stack(rewards, dim=0)\n",
        "  \n",
        "  return action_probs, values, rewards"
      ],
      "execution_count": 17,
      "outputs": []
    },
    {
      "cell_type": "markdown",
      "metadata": {
        "id": "lBnIHdz22dIx"
      },
      "source": [
        "### 2. Computing expected returns\n",
        "\n",
        "The sequence of rewards for each timestep $t$, $\\{r_{t}\\}^{T}_{t=1}$ collected during one episode is converted into a sequence of expected returns $\\{G_{t}\\}^{T}_{t=1}$ in which the sum of rewards is taken from the current timestep $t$ to $T$ and each reward is multiplied with an exponentially decaying discount factor $\\gamma$:\n",
        "\n",
        "$$G_{t} = \\sum^{T}_{t'=t} \\gamma^{t'-t}r_{t'}$$\n",
        "\n",
        "Since $\\gamma\\in(0,1)$, rewards further out from the current timestep are given less weight.\n",
        "\n",
        "Intuitively, expected return simply implies that rewards now are better than rewards later. In a mathematical sense, it is to ensure that the sum of the rewards converges.\n",
        "\n",
        "To stabilize training, the resulting sequence of returns is also standardized (i.e. to have zero mean and unit standard deviation).\n"
      ]
    },
    {
      "cell_type": "code",
      "metadata": {
        "id": "jpEwFyl315dl"
      },
      "source": [
        "def get_expected_return(\n",
        "    rewards: torch.Tensor, \n",
        "    gamma: float, \n",
        "    standardize: bool = True) -> torch.Tensor:\n",
        "  \"\"\"Compute expected returns per timestep.\"\"\"\n",
        "\n",
        "  n = rewards.shape[0]\n",
        "  returns = []\n",
        "\n",
        "  # Start from the end of `rewards` and accumulate reward sums\n",
        "  # into the `returns`\n",
        "  discounted_sum = 0\n",
        "  for i in reversed(range(n)):\n",
        "    reward = rewards[i]\n",
        "    discounted_sum = reward + gamma * discounted_sum\n",
        "    returns.append(discounted_sum)\n",
        "  returns = torch.stack(returns[::-1], dim=0)\n",
        "\n",
        "  if standardize:\n",
        "    returns = ((returns - returns.mean()) / \n",
        "               (returns.std() + eps))\n",
        "\n",
        "  return returns"
      ],
      "execution_count": 18,
      "outputs": []
    },
    {
      "cell_type": "markdown",
      "metadata": {
        "id": "1hrPLrgGxlvb"
      },
      "source": [
        "### 3. The actor-critic loss\n",
        "\n",
        "Since a hybrid actor-critic model is used, the chosen loss function is a combination of actor and critic losses for training, as shown below:\n",
        "\n",
        "$$L = L_{actor} + L_{critic}$$\n",
        "\n",
        "#### Actor loss\n",
        "\n",
        "The actor loss is based on [policy gradients with the critic as a state dependent baseline](https://www.youtube.com/watch?v=EKqxumCuAAY&t=62m23s) and computed with single-sample (per-episode) estimates.\n",
        "\n",
        "$$L_{actor} = -\\sum^{T}_{t=1} \\log\\pi_{\\theta}(a_{t} | s_{t})[G(s_{t}, a_{t})  - V^{\\pi}_{\\theta}(s_{t})]$$\n",
        "\n",
        "where:\n",
        "- $T$: the number of timesteps per episode, which can vary per episode\n",
        "- $s_{t}$: the state at timestep $t$\n",
        "- $a_{t}$: chosen action at timestep $t$ given state $s$\n",
        "- $\\pi_{\\theta}$: is the policy (actor) parameterized by $\\theta$\n",
        "- $V^{\\pi}_{\\theta}$: is the value function (critic) also parameterized by $\\theta$\n",
        "- $G = G_{t}$: the expected return for a given state, action pair at timestep $t$\n",
        "\n",
        "A negative term is added to the sum since the idea is to maximize the probabilities of actions yielding higher rewards by minimizing the combined loss.\n",
        "\n",
        "<br>\n",
        "\n",
        "##### Advantage\n",
        "\n",
        "The $G - V$ term in our $L_{actor}$ formulation is called the [advantage](https://spinningup.openai.com/en/latest/spinningup/rl_intro.html#advantage-functions), which indicates how much better an action is given a particular state over a random action selected according to the policy $\\pi$ for that state.\n",
        "\n",
        "While it's possible to exclude a baseline, this may result in high variance during training. And the nice thing about choosing the critic $V$ as a baseline is that it trained to be as close as possible to $G$, leading to a lower variance.\n",
        "\n",
        "In addition, without the critic, the algorithm would try to increase probabilities for actions taken on a particular state based on expected return, which may not make much of a difference if the relative probabilities between actions remain the same.\n",
        "\n",
        "For instance, suppose that two actions for a given state would yield the same expected return. Without the critic, the algorithm would try to raise the probability of these actions based on the objective $J$. With the critic, it may turn out that there's no advantage ($G - V = 0$) and thus no benefit gained in increasing the actions' probabilities and the algorithm would set the gradients to zero.\n",
        "\n",
        "<br>\n",
        "\n",
        "#### Critic loss\n",
        "\n",
        "Training $V$ to be as close possible to $G$ can be set up as a regression problem with the following loss function:\n",
        "\n",
        "$$L_{critic} = L_{\\delta}(G, V^{\\pi}_{\\theta})$$\n",
        "\n",
        "where $L_{\\delta}$ is the [Huber loss](https://en.wikipedia.org/wiki/Huber_loss), which is less sensitive to outliers in data than squared-error loss.\n"
      ]
    },
    {
      "cell_type": "code",
      "metadata": {
        "id": "9EXwbEez6n9m"
      },
      "source": [
        "huber_loss = torch.nn.HuberLoss(reduction='sum')\n",
        "\n",
        "def compute_loss(\n",
        "    action_probs: torch.Tensor,  \n",
        "    values: torch.Tensor,  \n",
        "    returns: torch.Tensor) -> torch.Tensor:\n",
        "  \"\"\"Computes the combined actor-critic loss.\"\"\"\n",
        "\n",
        "  advantage = returns - values\n",
        "\n",
        "  action_log_probs = action_probs.log()\n",
        "  actor_loss = -(action_log_probs * advantage).sum()\n",
        "\n",
        "  critic_loss = huber_loss(values, returns)\n",
        "\n",
        "  return actor_loss + critic_loss"
      ],
      "execution_count": 19,
      "outputs": []
    },
    {
      "cell_type": "markdown",
      "metadata": {
        "id": "HSYkQOmRfV75"
      },
      "source": [
        "### 4. Defining the training step to update parameters \n",
        "### Fill in the blanks: 40 points\n",
        "\n",
        "All of the steps above are combined into a training step that is run every episode. All steps leading up to the loss function are executed with the `tf.GradientTape` context to enable automatic differentiation.\n",
        "\n",
        "This notebook uses the Adam optimizer to apply the gradients to the model parameters.\n",
        "\n",
        "The sum of the undiscounted rewards, `episode_reward`, is also computed in this step. This value will be used later on to evaluate if the success criterion is met.\n",
        "\n",
        "The `tf.function` context is applied to the `train_step` function so that it can be compiled into a callable TensorFlow graph, which can lead to 10x speedup in training.\n"
      ]
    },
    {
      "cell_type": "code",
      "metadata": {
        "id": "QoccrkF3IFCg"
      },
      "source": [
        "optimizer = torch.optim.Adam(filter(lambda p: p.requires_grad, model.parameters()), lr=0.01)\n",
        "\n",
        "def train_step(\n",
        "    initial_state: torch.Tensor, \n",
        "    model: nn.Module, \n",
        "    optimizer: torch.optim.Optimizer, \n",
        "    gamma: float, \n",
        "    max_steps_per_episode: int) -> torch.Tensor:\n",
        "  \"\"\"Runs a model training step.\"\"\"\n",
        "\n",
        "  # Run the model for one episode to collect training data\n",
        "  action_probs, values, rewards = run_episode(\n",
        "      initial_state, model, max_steps_per_episode) \n",
        "\n",
        "  #############################################################Start your code here#########################################################################\n",
        "  # 10 points\n",
        "  # One single line\n",
        "  # Calculate expected returns\n",
        "  # Call get_expected_return function defined above\n",
        "  returns = get_expected_return(rewards, gamma)\n",
        "\n",
        "  \n",
        "  ##################################################################End your code###########################################################################\n",
        "\n",
        "  # Convert training data to appropriate torch tensor shapes\n",
        "  action_probs, values, returns = [\n",
        "      torch.unsqueeze(x, 1) for x in [action_probs, values, returns]] \n",
        "\n",
        "  #############################################################Start your code here#########################################################################\n",
        "  # 10 points\n",
        "  # One single line\n",
        "  # Calculating loss values to update our network\n",
        "  # Call compute_loss function defined above\n",
        "\n",
        "  loss = compute_loss(action_probs, values, returns)\n",
        "\n",
        "  \n",
        "\n",
        "\n",
        "  ##################################################################End your code###########################################################################\n",
        "  \n",
        "  #############################################################Start your code here#########################################################################\n",
        "  # 20 points\n",
        "  # Three lines: call zero_grad(), backward(), and step(); You need to figure out how to call these three functions; Hint: it is very simple\n",
        "  optimizer.zero_grad()\n",
        "  loss.backward()\n",
        "  optimizer.step()\n",
        "  \n",
        "\n",
        "\n",
        "\n",
        "  ##################################################################End your code###########################################################################\n",
        "\n",
        "  episode_reward = rewards.sum()\n",
        "\n",
        "  return episode_reward"
      ],
      "execution_count": 20,
      "outputs": []
    },
    {
      "cell_type": "markdown",
      "metadata": {
        "id": "HFvZiDoAflGK"
      },
      "source": [
        "### 5. Run the training loop\n",
        "\n",
        "Training is executed by running the training step until either the success criterion or maximum number of episodes is reached.  \n",
        "\n",
        "A running record of episode rewards is kept in a queue. Once 100 trials are reached, the oldest reward is removed at the left (tail) end of the queue and the newest one is added at the head (right). A running sum of the rewards is also maintained for computational efficiency. \n",
        "\n",
        "Depending on your runtime, training can finish in less than a minute."
      ]
    },
    {
      "cell_type": "code",
      "metadata": {
        "id": "kbmBxnzLiUJx",
        "colab": {
          "base_uri": "https://localhost:8080/"
        },
        "outputId": "35b4fa9b-a653-4399-ca97-e6734d2dd6a5"
      },
      "source": [
        "%%time\n",
        "\n",
        "min_episodes_criterion = 100\n",
        "max_episodes = 10000\n",
        "max_steps_per_episode = 1000\n",
        "\n",
        "# Cartpole-v0 is considered solved if average reward is >= 195 over 100 \n",
        "# consecutive trials\n",
        "reward_threshold = 195\n",
        "running_reward = 0\n",
        "\n",
        "# Discount factor for future rewards\n",
        "gamma = 0.99\n",
        "\n",
        "# Keep last episodes reward\n",
        "episodes_reward: collections.deque = collections.deque(maxlen=min_episodes_criterion)\n",
        "\n",
        "with tqdm.trange(max_episodes) as t:\n",
        "  for i in t:\n",
        "    initial_state = torch.from_numpy(np.array(env.reset(), dtype=np.float32)).to(device)\n",
        "    episode_reward = int(train_step(\n",
        "        initial_state, model, optimizer, gamma, max_steps_per_episode))\n",
        "    \n",
        "    episodes_reward.append(episode_reward)\n",
        "    running_reward = statistics.mean(episodes_reward)\n",
        "  \n",
        "    t.set_description(f'Episode {i}')\n",
        "    t.set_postfix(\n",
        "        episode_reward=episode_reward, running_reward=running_reward)\n",
        "  \n",
        "    # Show average episode reward every 10 episodes\n",
        "    if i % 10 == 0:\n",
        "      pass # print(f'Episode {i}: average reward: {avg_reward}')\n",
        "  \n",
        "    if running_reward > reward_threshold and i >= min_episodes_criterion:  \n",
        "        break\n",
        "\n",
        "print(f'\\nSolved at episode {i}: average reward: {running_reward:.2f}!')"
      ],
      "execution_count": 21,
      "outputs": [
        {
          "output_type": "stream",
          "name": "stderr",
          "text": [
            "Episode 672:   7%|▋         | 672/10000 [01:55<26:44,  5.81it/s, episode_reward=200, running_reward=195]"
          ]
        },
        {
          "output_type": "stream",
          "name": "stdout",
          "text": [
            "\n",
            "Solved at episode 672: average reward: 195.46!\n",
            "CPU times: user 1min 52s, sys: 952 ms, total: 1min 53s\n",
            "Wall time: 1min 55s\n"
          ]
        },
        {
          "output_type": "stream",
          "name": "stderr",
          "text": [
            "\n"
          ]
        }
      ]
    },
    {
      "cell_type": "markdown",
      "metadata": {
        "id": "ru8BEwS1EmAv"
      },
      "source": [
        "## Visualization\n",
        "\n",
        "After training, it would be good to visualize how the model performs in the environment. You can run the cells below to generate a GIF animation of one episode run of the model. Note that additional packages need to be installed for OpenAI Gym to render the environment's images correctly in Colab."
      ]
    },
    {
      "cell_type": "code",
      "metadata": {
        "id": "qbIMMkfmRHyC",
        "colab": {
          "base_uri": "https://localhost:8080/"
        },
        "outputId": "5d35a04c-fb47-48f5-b5cb-8da504bffecf"
      },
      "source": [
        "# Render an episode and save as a GIF file\n",
        "\n",
        "from IPython import display as ipythondisplay\n",
        "from PIL import Image\n",
        "from pyvirtualdisplay import Display\n",
        "\n",
        "\n",
        "display = Display(visible=0, size=(400, 300))\n",
        "display.start()\n",
        "\n",
        "\n",
        "def render_episode(env: gym.Env, model: nn.Module, max_steps: int): \n",
        "  screen = env.render(mode='rgb_array')\n",
        "  im = Image.fromarray(screen)\n",
        "\n",
        "  images = [im]\n",
        "  \n",
        "  state = torch.from_numpy(env.reset().astype(np.float32)).to(device)\n",
        "  for i in range(1, max_steps + 1):\n",
        "    state = state.unsqueeze(0)\n",
        "    action_probs, _ = model(state)\n",
        "    action = action_probs.squeeze().argmax().item()\n",
        "\n",
        "    state, _, done, _ = env.step(action)\n",
        "    state = torch.from_numpy(state).to(device).float()\n",
        "\n",
        "    # Render screen every 10 steps\n",
        "    if i % 10 == 0:\n",
        "      screen = env.render(mode='rgb_array')\n",
        "      images.append(Image.fromarray(screen))\n",
        "  \n",
        "    if done:\n",
        "      break\n",
        "  \n",
        "  return images\n",
        "\n",
        "\n",
        "# Save GIF image\n",
        "images = render_episode(env, model, max_steps_per_episode)\n",
        "image_file = 'cartpole-v0.gif'\n",
        "# loop=0: loop forever, duration=1: play each frame for 1ms\n",
        "images[0].save(\n",
        "    image_file, save_all=True, append_images=images[1:], loop=0, duration=1)"
      ],
      "execution_count": 24,
      "outputs": [
        {
          "output_type": "stream",
          "name": "stderr",
          "text": [
            "/usr/local/lib/python3.7/dist-packages/gym/core.py:44: DeprecationWarning: \u001b[33mWARN: The argument mode in render method is deprecated; use render_mode during environment initialization instead.\n",
            "See here for more information: https://www.gymlibrary.ml/content/api/\u001b[0m\n",
            "  \"The argument mode in render method is deprecated; \"\n"
          ]
        }
      ]
    },
    {
      "cell_type": "code",
      "metadata": {
        "id": "TLd720SejKmf",
        "colab": {
          "base_uri": "https://localhost:8080/",
          "height": 421
        },
        "outputId": "5d0c3bd5-1f8e-4c17-cbcb-90acbaea337f"
      },
      "source": [
        "import tensorflow_docs.vis.embed as embed\n",
        "embed.embed_file(image_file)"
      ],
      "execution_count": null,
      "outputs": [
        {
          "output_type": "execute_result",
          "data": {
            "text/html": [
              "<img src=\"data:image/gif;base64,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\"/>"
            ],
            "text/plain": [
              "<IPython.core.display.HTML object>"
            ]
          },
          "metadata": {},
          "execution_count": 22
        }
      ]
    }
  ]
}